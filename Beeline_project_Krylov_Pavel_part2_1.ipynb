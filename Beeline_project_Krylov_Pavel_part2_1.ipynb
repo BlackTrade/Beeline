{
 "cells": [
  {
   "cell_type": "code",
   "execution_count": 1,
   "metadata": {
    "collapsed": false
   },
   "outputs": [
    {
     "name": "stdout",
     "output_type": "stream",
     "text": [
      "Populating the interactive namespace from numpy and matplotlib\n"
     ]
    }
   ],
   "source": [
    "from __future__ import (absolute_import, division,print_function, unicode_literals)\n",
    "# отключим всякие предупреждения Anaconda\n",
    "import warnings\n",
    "warnings.filterwarnings('ignore')\n",
    "import numpy as np\n",
    "import pandas as pd\n",
    "%pylab inline\n",
    "import seaborn as sns"
   ]
  },
  {
   "cell_type": "markdown",
   "metadata": {},
   "source": [
    "Загрузим данные предобработанной тренировочной выборки"
   ]
  },
  {
   "cell_type": "code",
   "execution_count": 2,
   "metadata": {
    "collapsed": false
   },
   "outputs": [],
   "source": [
    "#len(data_cat) \n",
    "path='C:\\\\Users\\\\Pavel_2\\\\HSE\\\\Beeline\\\\'\n",
    "is_outlier=(np.loadtxt(path+'is_outlier.csv')).astype(bool)\n",
    "\n",
    "# поскольку при сохранении в файл задавался параметр index=False, то для корректного слияния таблиц \n",
    "# их нужно привести к одинаковой размерности заранее до pd.concat, иначе при некорректном слиянии будут nan\n",
    "data_cat= pd.read_csv(path+'data_cat.csv')[~is_outlier].reset_index(drop=True)\n",
    "data_cat_LE= pd.read_csv(path+'data_cat_LE.csv')[~is_outlier].reset_index(drop=True)\n",
    "data_cat_conj= pd.read_csv(path+'data_cat_conj.csv')[~is_outlier].reset_index(drop=True)\n",
    "data_means_map= pd.read_csv(path+'data_means_map.csv') #49500\n",
    "deanonimiz_data=pd.read_csv(path+'deanonimiz_data.csv')[~is_outlier].reset_index(drop=True)\n",
    "\n",
    "data_train_XGB= pd.read_csv(path+'data_train_XGB.csv')[~is_outlier].reset_index(drop=True)\n",
    "features_train_XGB=pd.read_csv(path+'features_train_XGB.csv')[~is_outlier].reset_index(drop=True)\n",
    "\n",
    "new_data_real= pd.read_csv(path+'new_data_real.csv') # 49500\n",
    "data_real_ln= pd.read_csv(path+'data_real_ln.csv')# 49500\n",
    "data_real_53_61= pd.read_csv(path+'data_real_53_61.csv')# 49500\n",
    "\n",
    "data_discrete= pd.read_csv(path+'data_discrete.csv')[~is_outlier].reset_index(drop=True)"
   ]
  },
  {
   "cell_type": "code",
   "execution_count": 3,
   "metadata": {
    "collapsed": true
   },
   "outputs": [],
   "source": [
    "y_train = pd.read_csv(path+'train.csv')['y'][~is_outlier].reset_index(drop=True)"
   ]
  },
  {
   "cell_type": "markdown",
   "metadata": {},
   "source": [
    "###  Часть 7. Отбор признаков"
   ]
  },
  {
   "cell_type": "markdown",
   "metadata": {},
   "source": [
    "Посчитаем общее количество старых и полученных новых признаков."
   ]
  },
  {
   "cell_type": "code",
   "execution_count": 4,
   "metadata": {
    "collapsed": false
   },
   "outputs": [
    {
     "name": "stdout",
     "output_type": "stream",
     "text": [
      "[200, 19, 171, 3, 160, 23, 41, 11, 19, 2] 649\n"
     ]
    }
   ],
   "source": [
    "feature_selection_data=[data_cat, data_cat_LE, data_cat_conj, deanonimiz_data, data_means_map, features_train_XGB,\\\n",
    "                       new_data_real, data_real_ln, data_real_53_61, data_discrete]\n",
    "feature_count=[]\n",
    "for data_ in feature_selection_data:\n",
    "    feature_count.append(data_.shape[1])\n",
    "    \n",
    "del feature_selection_data #очистим память \n",
    "print (feature_count, sum(feature_count))"
   ]
  },
  {
   "cell_type": "raw",
   "metadata": {},
   "source": [
    "Категориальные признаки\n",
    "data_cat       - 200\n",
    "data_cat_LE    - 19\n",
    "data_cat_conj  - 171\n",
    "data_means_map - 160\n",
    "deanonimiz_data- 3\n",
    "\n",
    "Числовые признаки\n",
    "data_train_XGB - 23\n",
    "new_data_real  - 41\n",
    "data_real_ln   - 11\n",
    "data_real_53_61- 19\n",
    "\n",
    "Бинарные признаки\n",
    "data_discrete  - 2\n",
    "\n",
    "Общее количество признаков - 649"
   ]
  },
  {
   "cell_type": "code",
   "execution_count": 5,
   "metadata": {
    "collapsed": true
   },
   "outputs": [],
   "source": [
    "# http://datareview.info/article/otbor-priznakov-dlya-mashinnogo-obucheniya-na-python/"
   ]
  },
  {
   "cell_type": "markdown",
   "metadata": {},
   "source": [
    "Первоначально отберем признаки используя обученную модель из которой будем брать feature importances. Чтобы не мешать отбор признаков разобьем отбор признаков на основе важности на несколько этапов:\n",
    "\n",
    "1. отбор категориальных признаков\n",
    "2. отбор числовых признаков\n",
    "3. окончательный отбор признаков"
   ]
  },
  {
   "cell_type": "markdown",
   "metadata": {},
   "source": [
    " Для категориальных признаков рассмотрим 3 метода отбора признаков на Python"
   ]
  },
  {
   "cell_type": "markdown",
   "metadata": {},
   "source": [
    "**Отбор на основе важности признаков**\n",
    "\n",
    "Ансамблевые алгоритмы на основе деревьев решений, такие как случайный лес (random forest), позволяют оценить важность признаков. В представленном ниже примере мы обучаем классификатор RandomForestClassifier, чтобы с его помощью определить важность признаков"
   ]
  },
  {
   "cell_type": "code",
   "execution_count": 6,
   "metadata": {
    "collapsed": true
   },
   "outputs": [],
   "source": [
    "#from sklearn.ensemble import ExtraTreesClassifier\n",
    "#model = ExtraTreesClassifier(verbose=1)\n",
    "from sklearn.ensemble.forest import RandomForestClassifier\n",
    "model = RandomForestClassifier(n_estimators=1000,max_features=25,random_state=17,verbose=1)"
   ]
  },
  {
   "cell_type": "code",
   "execution_count": 7,
   "metadata": {
    "collapsed": false
   },
   "outputs": [
    {
     "name": "stderr",
     "output_type": "stream",
     "text": [
      "[Parallel(n_jobs=1)]: Done 1000 out of 1000 | elapsed:  7.6min finished\n"
     ]
    }
   ],
   "source": [
    "data_feature_selection=pd.concat([data_cat,data_cat_LE,data_cat_conj,data_means_map,deanonimiz_data], axis=1)\n",
    "model.fit(data_feature_selection, y_train)\n",
    "importances = model.feature_importances_"
   ]
  },
  {
   "cell_type": "code",
   "execution_count": 8,
   "metadata": {
    "collapsed": false
   },
   "outputs": [
    {
     "name": "stdout",
     "output_type": "stream",
     "text": [
      "553\n",
      "x30_RF_by_['x10']_mean    0.011777\n",
      "x8_RF_by_['x21']_mean     0.011486\n",
      "x8_RF_by_['x10']_mean     0.011440\n",
      "x56_RF_by_['x10']_mean    0.010833\n",
      "x56_RF_by_['x21']_mean    0.009934\n",
      "x8_RF_by_['x18']_mean     0.009496\n",
      "x32_RF_by_['x10']_mean    0.009433\n",
      "x43_RF_by_['x10']_mean    0.009247\n",
      "x44_RF_by_['x10']_mean    0.009185\n",
      "x23_RF_by_['x10']_mean    0.009094\n",
      "Name: RandomForest, dtype: float64\n"
     ]
    },
    {
     "data": {
      "image/png": "[encoded data removed]",
      "text/plain": [
       "<matplotlib.figure.Figure at 0x132b7b00>"
      ]
     },
     "metadata": {},
     "output_type": "display_data"
    }
   ],
   "source": [
    "features_cat_df =pd.DataFrame(data=importances, index=list(data_feature_selection.columns), columns=['RandomForest'])\n",
    "features_cat_df.sort_values(by='RandomForest', ascending=False, inplace=True)\n",
    "print (features_cat_df.shape[0])\n",
    "print (features_cat_df['RandomForest'][:10])\n",
    "features_cat_df[:50].plot(kind='bar',figsize=(12,6),color='m',logy=True) #sort_columns=True\n",
    "plt.ylabel(\"Log Y\")\n",
    "plt.title(u\"Важность признаков\");"
   ]
  },
  {
   "cell_type": "code",
   "execution_count": 9,
   "metadata": {
    "collapsed": false
   },
   "outputs": [
    {
     "data": {
      "text/html": [
       "<div>\n",
       "<table border=\"1\" class=\"dataframe\">\n",
       "  <thead>\n",
       "    <tr style=\"text-align: right;\">\n",
       "      <th></th>\n",
       "      <th>RandomForest</th>\n",
       "    </tr>\n",
       "  </thead>\n",
       "  <tbody>\n",
       "    <tr>\n",
       "      <th>x30_RF_by_['x10']_mean</th>\n",
       "      <td>0.011777</td>\n",
       "    </tr>\n",
       "    <tr>\n",
       "      <th>x8_RF_by_['x21']_mean</th>\n",
       "      <td>0.011486</td>\n",
       "    </tr>\n",
       "    <tr>\n",
       "      <th>x8_RF_by_['x10']_mean</th>\n",
       "      <td>0.011440</td>\n",
       "    </tr>\n",
       "    <tr>\n",
       "      <th>x56_RF_by_['x10']_mean</th>\n",
       "      <td>0.010833</td>\n",
       "    </tr>\n",
       "    <tr>\n",
       "      <th>x56_RF_by_['x21']_mean</th>\n",
       "      <td>0.009934</td>\n",
       "    </tr>\n",
       "    <tr>\n",
       "      <th>x8_RF_by_['x18']_mean</th>\n",
       "      <td>0.009496</td>\n",
       "    </tr>\n",
       "    <tr>\n",
       "      <th>x32_RF_by_['x10']_mean</th>\n",
       "      <td>0.009433</td>\n",
       "    </tr>\n",
       "    <tr>\n",
       "      <th>x43_RF_by_['x10']_mean</th>\n",
       "      <td>0.009247</td>\n",
       "    </tr>\n",
       "    <tr>\n",
       "      <th>x44_RF_by_['x10']_mean</th>\n",
       "      <td>0.009185</td>\n",
       "    </tr>\n",
       "    <tr>\n",
       "      <th>x23_RF_by_['x10']_mean</th>\n",
       "      <td>0.009094</td>\n",
       "    </tr>\n",
       "  </tbody>\n",
       "</table>\n",
       "</div>"
      ],
      "text/plain": [
       "                        RandomForest\n",
       "x30_RF_by_['x10']_mean      0.011777\n",
       "x8_RF_by_['x21']_mean       0.011486\n",
       "x8_RF_by_['x10']_mean       0.011440\n",
       "x56_RF_by_['x10']_mean      0.010833\n",
       "x56_RF_by_['x21']_mean      0.009934\n",
       "x8_RF_by_['x18']_mean       0.009496\n",
       "x32_RF_by_['x10']_mean      0.009433\n",
       "x43_RF_by_['x10']_mean      0.009247\n",
       "x44_RF_by_['x10']_mean      0.009185\n",
       "x23_RF_by_['x10']_mean      0.009094"
      ]
     },
     "execution_count": 9,
     "metadata": {},
     "output_type": "execute_result"
    }
   ],
   "source": [
    "features_cat_df[:10]"
   ]
  },
  {
   "cell_type": "markdown",
   "metadata": {},
   "source": [
    "**Одномерный отбор признаков**\n",
    "\n",
    "Признаки, имеющие наиболее выраженную взаимосвязь с целевой переменной, могут быть отобраны с помощью статистических критериев. Библиотека scikit-learn содержит класс SelectKBest, реализующий одномерный отбор признаков (univariate feature selection). Этот класс можно применять совместно с различными статистическими критериями для отбора заданного количества признаков. Будем отбирать  100 признаков."
   ]
  },
  {
   "cell_type": "code",
   "execution_count": 10,
   "metadata": {
    "collapsed": true
   },
   "outputs": [],
   "source": [
    "# Chi-squared stats of non-negative features for classification tasks\n",
    "from sklearn.preprocessing import MinMaxScaler\n",
    "X = MinMaxScaler().fit_transform(data_feature_selection)"
   ]
  },
  {
   "cell_type": "code",
   "execution_count": 11,
   "metadata": {
    "collapsed": false,
    "scrolled": true
   },
   "outputs": [
    {
     "name": "stdout",
     "output_type": "stream",
     "text": [
      "Wall time: 5.31 s\n"
     ]
    }
   ],
   "source": [
    "%%time\n",
    "from sklearn.feature_selection import SelectKBest, chi2 \n",
    "\n",
    "# feature extraction\n",
    "model = SelectKBest(score_func=chi2, k=100)\n",
    "fit = model.fit(X, y_train)\n",
    "#numpy.set_printoptions(precision=3)# три знака при использовании print после запятой\n",
    "\n",
    "# summarize scores\n",
    "features_cat_df2 =pd.DataFrame(data=fit.scores_, \\\n",
    "                              index=list(data_feature_selection.columns), columns=['SelectKBest'])\n",
    "features_cat_df2.sort_values(by='SelectKBest',ascending=False, inplace=True)"
   ]
  },
  {
   "cell_type": "code",
   "execution_count": 12,
   "metadata": {
    "collapsed": false
   },
   "outputs": [
    {
     "data": {
      "text/html": [
       "<div>\n",
       "<table border=\"1\" class=\"dataframe\">\n",
       "  <thead>\n",
       "    <tr style=\"text-align: right;\">\n",
       "      <th></th>\n",
       "      <th>SelectKBest</th>\n",
       "    </tr>\n",
       "  </thead>\n",
       "  <tbody>\n",
       "    <tr>\n",
       "      <th>x11_669ea3d319</th>\n",
       "      <td>2486.022524</td>\n",
       "    </tr>\n",
       "    <tr>\n",
       "      <th>x12_b38690945d</th>\n",
       "      <td>2382.082778</td>\n",
       "    </tr>\n",
       "    <tr>\n",
       "      <th>x11_91bb549494</th>\n",
       "      <td>1968.435230</td>\n",
       "    </tr>\n",
       "    <tr>\n",
       "      <th>x12_e33c63cf35</th>\n",
       "      <td>1955.735996</td>\n",
       "    </tr>\n",
       "    <tr>\n",
       "      <th>x30_RF_by_['x11']_mean</th>\n",
       "      <td>1897.055020</td>\n",
       "    </tr>\n",
       "    <tr>\n",
       "      <th>x8_RF_by_['x11']_mean</th>\n",
       "      <td>1528.139810</td>\n",
       "    </tr>\n",
       "    <tr>\n",
       "      <th>x30_RF_by_['x10']_mean</th>\n",
       "      <td>1304.854611</td>\n",
       "    </tr>\n",
       "    <tr>\n",
       "      <th>x56_RF_by_['x11']_mean</th>\n",
       "      <td>1242.008925</td>\n",
       "    </tr>\n",
       "    <tr>\n",
       "      <th>x56_RF_by_['x12']_mean</th>\n",
       "      <td>1237.642985</td>\n",
       "    </tr>\n",
       "    <tr>\n",
       "      <th>x30_RF_by_['x12']_mean</th>\n",
       "      <td>1214.424847</td>\n",
       "    </tr>\n",
       "  </tbody>\n",
       "</table>\n",
       "</div>"
      ],
      "text/plain": [
       "                        SelectKBest\n",
       "x11_669ea3d319          2486.022524\n",
       "x12_b38690945d          2382.082778\n",
       "x11_91bb549494          1968.435230\n",
       "x12_e33c63cf35          1955.735996\n",
       "x30_RF_by_['x11']_mean  1897.055020\n",
       "x8_RF_by_['x11']_mean   1528.139810\n",
       "x30_RF_by_['x10']_mean  1304.854611\n",
       "x56_RF_by_['x11']_mean  1242.008925\n",
       "x56_RF_by_['x12']_mean  1237.642985\n",
       "x30_RF_by_['x12']_mean  1214.424847"
      ]
     },
     "execution_count": 12,
     "metadata": {},
     "output_type": "execute_result"
    }
   ],
   "source": [
    "features_cat_df2[:10]"
   ]
  },
  {
   "cell_type": "markdown",
   "metadata": {
    "collapsed": true
   },
   "source": [
    "**Рекурсивное исключение признаков**\n",
    "\n",
    "Метод рекурсивного исключения признаков (recursive feature elimination, RFE) реализует следующий алгоритм: модель обучается на исходном наборе признаков и оценивает их значимость, затем исключается один или несколько наименее значимых признаков, модель обучается на оставшихся признаках, и так далее, пока не останется заданное количество лучших признаков."
   ]
  },
  {
   "cell_type": "code",
   "execution_count": 13,
   "metadata": {
    "collapsed": false,
    "scrolled": true
   },
   "outputs": [
    {
     "name": "stdout",
     "output_type": "stream",
     "text": [
      "Fitting estimator with 553 features.\n",
      "Fitting estimator with 543 features.\n",
      "Fitting estimator with 533 features.\n",
      "Fitting estimator with 523 features.\n",
      "Fitting estimator with 513 features.\n",
      "Fitting estimator with 503 features.\n",
      "Fitting estimator with 493 features.\n",
      "Fitting estimator with 483 features.\n",
      "Fitting estimator with 473 features.\n",
      "Fitting estimator with 463 features.\n",
      "Fitting estimator with 453 features.\n",
      "Fitting estimator with 443 features.\n",
      "Fitting estimator with 433 features.\n",
      "Fitting estimator with 423 features.\n",
      "Fitting estimator with 413 features.\n",
      "Fitting estimator with 403 features.\n",
      "Fitting estimator with 393 features.\n",
      "Fitting estimator with 383 features.\n",
      "Fitting estimator with 373 features.\n",
      "Fitting estimator with 363 features.\n",
      "Fitting estimator with 353 features.\n",
      "Fitting estimator with 343 features.\n",
      "Fitting estimator with 333 features.\n",
      "Fitting estimator with 323 features.\n",
      "Fitting estimator with 313 features.\n",
      "Fitting estimator with 303 features.\n",
      "Fitting estimator with 293 features.\n",
      "Fitting estimator with 283 features.\n",
      "Fitting estimator with 273 features.\n",
      "Fitting estimator with 263 features.\n",
      "Fitting estimator with 253 features.\n",
      "Fitting estimator with 243 features.\n",
      "Fitting estimator with 233 features.\n",
      "Fitting estimator with 223 features.\n",
      "Fitting estimator with 213 features.\n",
      "Fitting estimator with 203 features.\n",
      "Fitting estimator with 193 features.\n",
      "Fitting estimator with 183 features.\n",
      "Fitting estimator with 173 features.\n",
      "Fitting estimator with 163 features.\n",
      "Fitting estimator with 153 features.\n",
      "Fitting estimator with 143 features.\n",
      "Fitting estimator with 133 features.\n",
      "Fitting estimator with 123 features.\n",
      "Fitting estimator with 113 features.\n",
      "Fitting estimator with 103 features.\n",
      "Wall time: 1h 7min 34s\n"
     ]
    }
   ],
   "source": [
    "%%time\n",
    "from sklearn.feature_selection import RFE\n",
    "from sklearn.linear_model import LogisticRegression\n",
    "              \n",
    "model = LogisticRegression()\n",
    "rfe = RFE(model,100,step=10, verbose=1)\n",
    "fit = rfe.fit(X, y_train) "
   ]
  },
  {
   "cell_type": "code",
   "execution_count": 14,
   "metadata": {
    "collapsed": false
   },
   "outputs": [
    {
     "data": {
      "text/html": [
       "<div>\n",
       "<table border=\"1\" class=\"dataframe\">\n",
       "  <thead>\n",
       "    <tr style=\"text-align: right;\">\n",
       "      <th></th>\n",
       "      <th>RFE</th>\n",
       "    </tr>\n",
       "  </thead>\n",
       "  <tbody>\n",
       "    <tr>\n",
       "      <th>x13_RF_by_['x0']_mean</th>\n",
       "      <td>1</td>\n",
       "    </tr>\n",
       "    <tr>\n",
       "      <th>x10_47bdeb833e</th>\n",
       "      <td>1</td>\n",
       "    </tr>\n",
       "    <tr>\n",
       "      <th>x15+x21</th>\n",
       "      <td>1</td>\n",
       "    </tr>\n",
       "    <tr>\n",
       "      <th>x13_RF_by_['x5']_mean</th>\n",
       "      <td>1</td>\n",
       "    </tr>\n",
       "    <tr>\n",
       "      <th>x56_RF_by_['x18']_mean</th>\n",
       "      <td>1</td>\n",
       "    </tr>\n",
       "    <tr>\n",
       "      <th>x13_RF_by_['x17']_mean</th>\n",
       "      <td>1</td>\n",
       "    </tr>\n",
       "    <tr>\n",
       "      <th>x10_1d42d0c490</th>\n",
       "      <td>1</td>\n",
       "    </tr>\n",
       "    <tr>\n",
       "      <th>x15+x20</th>\n",
       "      <td>1</td>\n",
       "    </tr>\n",
       "    <tr>\n",
       "      <th>x56_RF_by_['x17']_mean</th>\n",
       "      <td>1</td>\n",
       "    </tr>\n",
       "    <tr>\n",
       "      <th>x8_RF_by_['x4']_mean</th>\n",
       "      <td>1</td>\n",
       "    </tr>\n",
       "  </tbody>\n",
       "</table>\n",
       "</div>"
      ],
      "text/plain": [
       "                        RFE\n",
       "x13_RF_by_['x0']_mean     1\n",
       "x10_47bdeb833e            1\n",
       "x15+x21                   1\n",
       "x13_RF_by_['x5']_mean     1\n",
       "x56_RF_by_['x18']_mean    1\n",
       "x13_RF_by_['x17']_mean    1\n",
       "x10_1d42d0c490            1\n",
       "x15+x20                   1\n",
       "x56_RF_by_['x17']_mean    1\n",
       "x8_RF_by_['x4']_mean      1"
      ]
     },
     "execution_count": 14,
     "metadata": {},
     "output_type": "execute_result"
    }
   ],
   "source": [
    "features_cat_df3 =pd.DataFrame(data=fit.ranking_, \\\n",
    "                              index=list(data_feature_selection.columns), columns=['RFE'])\n",
    "# ascending=True -  Отобранные признаки помечены значением  значением «1» в массиве ranking_.   \n",
    "features_cat_df3.sort_values(by='RFE',ascending=True, inplace=True)\n",
    "features_cat_df3[:10]"
   ]
  },
  {
   "cell_type": "markdown",
   "metadata": {
    "collapsed": true
   },
   "source": [
    "Мы отбирали по 100 признаков каждым методом, теперь объединим все три списка лучших признаков отобранных каждым методом"
   ]
  },
  {
   "cell_type": "code",
   "execution_count": 6,
   "metadata": {
    "collapsed": false
   },
   "outputs": [],
   "source": [
    "import pickle\n",
    "with open (path+'features_cat.csv','rb') as fp:\n",
    "    features_cat=pickle.load(fp)"
   ]
  },
  {
   "cell_type": "code",
   "execution_count": null,
   "metadata": {
    "collapsed": true
   },
   "outputs": [],
   "source": [
    "features_cat=list(features_cat_df.index.values[:100])+list(features_cat_df2.index.values[:100]) \\\n",
    "             +list(features_cat_df3.index.values[:100])\n",
    "features_cat=set(features_cat)"
   ]
  },
  {
   "cell_type": "code",
   "execution_count": 7,
   "metadata": {
    "collapsed": false
   },
   "outputs": [
    {
     "data": {
      "text/plain": [
       "238"
      ]
     },
     "execution_count": 7,
     "metadata": {},
     "output_type": "execute_result"
    }
   ],
   "source": [
    "len(features_cat)"
   ]
  },
  {
   "cell_type": "code",
   "execution_count": 17,
   "metadata": {
    "collapsed": false
   },
   "outputs": [],
   "source": [
    "import pickle\n",
    "with open (path+'features_cat.csv','wb') as fp:\n",
    "    pickle.dump(features_cat,fp)"
   ]
  },
  {
   "cell_type": "markdown",
   "metadata": {
    "collapsed": true
   },
   "source": [
    "**отбор числовых признаков**"
   ]
  },
  {
   "cell_type": "code",
   "execution_count": 19,
   "metadata": {
    "collapsed": false
   },
   "outputs": [],
   "source": [
    "#del model\n",
    "from sklearn.ensemble.forest import RandomForestRegressor\n",
    "model = RandomForestRegressor(n_estimators=1000,max_features=25,random_state=17,verbose=1)"
   ]
  },
  {
   "cell_type": "code",
   "execution_count": 21,
   "metadata": {
    "collapsed": false
   },
   "outputs": [
    {
     "name": "stderr",
     "output_type": "stream",
     "text": [
      "[Parallel(n_jobs=1)]: Done 1000 out of 1000 | elapsed: 13.0min finished\n"
     ]
    }
   ],
   "source": [
    "data_feature_selection=pd.concat([features_train_XGB, new_data_real, data_real_ln, data_real_53_61, data_discrete], \\\n",
    "                                 axis=1)# data_train_XGB только для подачи в XGBoost\n",
    "model.fit(data_feature_selection, y_train)\n",
    "importances = model.feature_importances_"
   ]
  },
  {
   "cell_type": "code",
   "execution_count": 22,
   "metadata": {
    "collapsed": false
   },
   "outputs": [
    {
     "name": "stdout",
     "output_type": "stream",
     "text": [
      "96\n",
      "x8_XGB     0.198407\n",
      "x8_RF      0.145963\n",
      "x30_RF     0.064912\n",
      "x29_RF     0.029831\n",
      "x30_XGB    0.027372\n",
      "x13_RF     0.014990\n",
      "x32_RF     0.013896\n",
      "x56_XGB    0.013112\n",
      "x56_RF     0.012407\n",
      "x23_ln     0.011472\n",
      "Name: importances, dtype: float64\n"
     ]
    },
    {
     "data": {
      "image/png": "[encoded data removed]",
      "text/plain": [
       "<matplotlib.figure.Figure at 0xde13e80>"
      ]
     },
     "metadata": {},
     "output_type": "display_data"
    }
   ],
   "source": [
    "features_real_df =pd.DataFrame(data=importances, index=list(data_feature_selection.columns), columns=['importances'])\n",
    "features_real_df.sort_values(by='importances', ascending=False, inplace=True)\n",
    "print (features_real_df.shape[0])\n",
    "print (features_real_df['importances'][:10])\n",
    "features_real_df[:50].plot(kind='bar',figsize=(12,6),color='c',logy=True) #sort_columns=True\n",
    "plt.ylabel(\"Log Y\")\n",
    "plt.title(u\"Важность признаков\");"
   ]
  },
  {
   "cell_type": "markdown",
   "metadata": {},
   "source": [
    "Числовые признаки имели ряд пропусков в данных  и было сделано ряд предобработок для заполнения пропусков. После ранжирования признаков следует удалить взаимно дублирующие друг друга признаки"
   ]
  },
  {
   "cell_type": "code",
   "execution_count": 23,
   "metadata": {
    "collapsed": false
   },
   "outputs": [
    {
     "data": {
      "text/html": [
       "<div>\n",
       "<table border=\"1\" class=\"dataframe\">\n",
       "  <thead>\n",
       "    <tr style=\"text-align: right;\">\n",
       "      <th></th>\n",
       "      <th>feature</th>\n",
       "      <th>XGB</th>\n",
       "      <th>RF/md/mf</th>\n",
       "      <th>Log</th>\n",
       "      <th>name for RF/md/mf</th>\n",
       "    </tr>\n",
       "  </thead>\n",
       "  <tbody>\n",
       "    <tr>\n",
       "      <th>0</th>\n",
       "      <td>x13</td>\n",
       "      <td>NaN</td>\n",
       "      <td>0.014990</td>\n",
       "      <td>NaN</td>\n",
       "      <td>x13_RF</td>\n",
       "    </tr>\n",
       "    <tr>\n",
       "      <th>1</th>\n",
       "      <td>x23</td>\n",
       "      <td>NaN</td>\n",
       "      <td>0.011434</td>\n",
       "      <td>0.011472</td>\n",
       "      <td>x23_RF</td>\n",
       "    </tr>\n",
       "    <tr>\n",
       "      <th>2</th>\n",
       "      <td>x24</td>\n",
       "      <td>NaN</td>\n",
       "      <td>0.010299</td>\n",
       "      <td>0.010064</td>\n",
       "      <td>x24_mf</td>\n",
       "    </tr>\n",
       "    <tr>\n",
       "      <th>3</th>\n",
       "      <td>x25</td>\n",
       "      <td>NaN</td>\n",
       "      <td>0.007546</td>\n",
       "      <td>NaN</td>\n",
       "      <td>x25_mf</td>\n",
       "    </tr>\n",
       "    <tr>\n",
       "      <th>4</th>\n",
       "      <td>x26</td>\n",
       "      <td>NaN</td>\n",
       "      <td>0.005219</td>\n",
       "      <td>0.005220</td>\n",
       "      <td>x26_md</td>\n",
       "    </tr>\n",
       "    <tr>\n",
       "      <th>5</th>\n",
       "      <td>x27</td>\n",
       "      <td>NaN</td>\n",
       "      <td>0.007291</td>\n",
       "      <td>0.007445</td>\n",
       "      <td>x27_mf</td>\n",
       "    </tr>\n",
       "    <tr>\n",
       "      <th>6</th>\n",
       "      <td>x28</td>\n",
       "      <td>NaN</td>\n",
       "      <td>0.006900</td>\n",
       "      <td>NaN</td>\n",
       "      <td>x28_mf</td>\n",
       "    </tr>\n",
       "    <tr>\n",
       "      <th>7</th>\n",
       "      <td>x29</td>\n",
       "      <td>0.011072</td>\n",
       "      <td>0.029831</td>\n",
       "      <td>NaN</td>\n",
       "      <td>x29_RF</td>\n",
       "    </tr>\n",
       "    <tr>\n",
       "      <th>8</th>\n",
       "      <td>x30</td>\n",
       "      <td>0.027372</td>\n",
       "      <td>0.064912</td>\n",
       "      <td>NaN</td>\n",
       "      <td>x30_RF</td>\n",
       "    </tr>\n",
       "    <tr>\n",
       "      <th>9</th>\n",
       "      <td>x31</td>\n",
       "      <td>0.006701</td>\n",
       "      <td>0.005173</td>\n",
       "      <td>NaN</td>\n",
       "      <td>x31_RF</td>\n",
       "    </tr>\n",
       "    <tr>\n",
       "      <th>10</th>\n",
       "      <td>x32</td>\n",
       "      <td>0.007439</td>\n",
       "      <td>0.013896</td>\n",
       "      <td>NaN</td>\n",
       "      <td>x32_RF</td>\n",
       "    </tr>\n",
       "    <tr>\n",
       "      <th>11</th>\n",
       "      <td>x33</td>\n",
       "      <td>0.006320</td>\n",
       "      <td>0.003936</td>\n",
       "      <td>0.003923</td>\n",
       "      <td>x33_md</td>\n",
       "    </tr>\n",
       "    <tr>\n",
       "      <th>12</th>\n",
       "      <td>x34</td>\n",
       "      <td>NaN</td>\n",
       "      <td>0.008511</td>\n",
       "      <td>NaN</td>\n",
       "      <td>x34_RF</td>\n",
       "    </tr>\n",
       "    <tr>\n",
       "      <th>13</th>\n",
       "      <td>x35</td>\n",
       "      <td>NaN</td>\n",
       "      <td>0.008256</td>\n",
       "      <td>NaN</td>\n",
       "      <td>x35_RF</td>\n",
       "    </tr>\n",
       "    <tr>\n",
       "      <th>14</th>\n",
       "      <td>x36</td>\n",
       "      <td>NaN</td>\n",
       "      <td>0.004057</td>\n",
       "      <td>0.003987</td>\n",
       "      <td>x36_mf</td>\n",
       "    </tr>\n",
       "    <tr>\n",
       "      <th>15</th>\n",
       "      <td>x37</td>\n",
       "      <td>NaN</td>\n",
       "      <td>0.007346</td>\n",
       "      <td>0.007273</td>\n",
       "      <td>x37_mf</td>\n",
       "    </tr>\n",
       "    <tr>\n",
       "      <th>16</th>\n",
       "      <td>x38</td>\n",
       "      <td>0.008511</td>\n",
       "      <td>0.002930</td>\n",
       "      <td>NaN</td>\n",
       "      <td>x38_mf</td>\n",
       "    </tr>\n",
       "    <tr>\n",
       "      <th>17</th>\n",
       "      <td>x39</td>\n",
       "      <td>NaN</td>\n",
       "      <td>0.004178</td>\n",
       "      <td>0.004197</td>\n",
       "      <td>x39_RF</td>\n",
       "    </tr>\n",
       "    <tr>\n",
       "      <th>18</th>\n",
       "      <td>x40</td>\n",
       "      <td>NaN</td>\n",
       "      <td>0.006182</td>\n",
       "      <td>0.006183</td>\n",
       "      <td>x40_RF</td>\n",
       "    </tr>\n",
       "    <tr>\n",
       "      <th>19</th>\n",
       "      <td>x41</td>\n",
       "      <td>NaN</td>\n",
       "      <td>0.006210</td>\n",
       "      <td>0.006273</td>\n",
       "      <td>x41_RF</td>\n",
       "    </tr>\n",
       "  </tbody>\n",
       "</table>\n",
       "</div>"
      ],
      "text/plain": [
       "   feature       XGB  RF/md/mf       Log name for RF/md/mf\n",
       "0      x13       NaN  0.014990       NaN            x13_RF\n",
       "1      x23       NaN  0.011434  0.011472            x23_RF\n",
       "2      x24       NaN  0.010299  0.010064            x24_mf\n",
       "3      x25       NaN  0.007546       NaN            x25_mf\n",
       "4      x26       NaN  0.005219  0.005220            x26_md\n",
       "5      x27       NaN  0.007291  0.007445            x27_mf\n",
       "6      x28       NaN  0.006900       NaN            x28_mf\n",
       "7      x29  0.011072  0.029831       NaN            x29_RF\n",
       "8      x30  0.027372  0.064912       NaN            x30_RF\n",
       "9      x31  0.006701  0.005173       NaN            x31_RF\n",
       "10     x32  0.007439  0.013896       NaN            x32_RF\n",
       "11     x33  0.006320  0.003936  0.003923            x33_md\n",
       "12     x34       NaN  0.008511       NaN            x34_RF\n",
       "13     x35       NaN  0.008256       NaN            x35_RF\n",
       "14     x36       NaN  0.004057  0.003987            x36_mf\n",
       "15     x37       NaN  0.007346  0.007273            x37_mf\n",
       "16     x38  0.008511  0.002930       NaN            x38_mf\n",
       "17     x39       NaN  0.004178  0.004197            x39_RF\n",
       "18     x40       NaN  0.006182  0.006183            x40_RF\n",
       "19     x41       NaN  0.006210  0.006273            x41_RF"
      ]
     },
     "execution_count": 23,
     "metadata": {},
     "output_type": "execute_result"
    }
   ],
   "source": [
    "data_feature_importances_=pd.DataFrame()\n",
    "features=[features_train_XGB, new_data_real, data_real_ln]\n",
    "\n",
    "for feature in features:    \n",
    "    data_feature_importances=features_real_df.loc[features_real_df.index.isin(feature)].sort_index()\n",
    "    data_feature_importances.index=[x.split('_')[0] for x in data_feature_importances.index ] \n",
    "    data_feature_importances_=pd.concat([data_feature_importances_,data_feature_importances],axis=1)\n",
    "    \n",
    "data_feature_importances_.reset_index(inplace=True) \n",
    "data_feature_importances_=pd.concat([data_feature_importances_, pd.DataFrame(new_data_real.columns)],axis=1)\n",
    "data_feature_importances_.columns=['feature','XGB','RF/md/mf','Log','name for RF/md/mf']    \n",
    "data_feature_importances_[:20]"
   ]
  },
  {
   "cell_type": "code",
   "execution_count": 24,
   "metadata": {
    "collapsed": false
   },
   "outputs": [],
   "source": [
    "def f(x):\n",
    "    _max=0\n",
    "    if x['XGB']<> np.nan and x['XGB']>x['RF/md/mf'] : \n",
    "        _max=x['feature']+'_XGB'\n",
    "    elif x['Log']>x['RF/md/mf'] and x['Log']>_max:\n",
    "        _max=x['feature']+'_ln'\n",
    "    else: _max=x['name for RF/md/mf']  \n",
    "    return _max"
   ]
  },
  {
   "cell_type": "code",
   "execution_count": 25,
   "metadata": {
    "collapsed": false
   },
   "outputs": [],
   "source": [
    "new_real_features=list(data_feature_importances_.apply(f, axis=1).values)"
   ]
  },
  {
   "cell_type": "code",
   "execution_count": 26,
   "metadata": {
    "collapsed": false,
    "scrolled": true
   },
   "outputs": [
    {
     "data": {
      "text/plain": [
       "['x13_RF',\n",
       " u'x23_ln',\n",
       " 'x24_mf',\n",
       " 'x25_mf',\n",
       " u'x26_ln',\n",
       " u'x27_ln',\n",
       " 'x28_mf',\n",
       " 'x29_RF',\n",
       " 'x30_RF',\n",
       " u'x31_XGB',\n",
       " 'x32_RF',\n",
       " u'x33_XGB',\n",
       " 'x34_RF',\n",
       " 'x35_RF',\n",
       " 'x36_mf',\n",
       " 'x37_mf',\n",
       " u'x38_XGB',\n",
       " u'x39_ln',\n",
       " u'x40_ln',\n",
       " u'x41_ln',\n",
       " u'x42_ln',\n",
       " 'x43_RF',\n",
       " 'x44_RF',\n",
       " u'x45_XGB',\n",
       " u'x46_XGB',\n",
       " u'x47_XGB',\n",
       " u'x48_XGB',\n",
       " u'x49_XGB',\n",
       " u'x50_XGB',\n",
       " u'x51_XGB',\n",
       " u'x52_XGB',\n",
       " u'x53_XGB',\n",
       " u'x54_XGB',\n",
       " u'x55_XGB',\n",
       " u'x56_XGB',\n",
       " u'x57_XGB',\n",
       " u'x58_XGB',\n",
       " u'x59_XGB',\n",
       " u'x60_XGB',\n",
       " 'x61_md',\n",
       " u'x8_XGB']"
      ]
     },
     "execution_count": 26,
     "metadata": {},
     "output_type": "execute_result"
    }
   ],
   "source": [
    "new_real_features"
   ]
  },
  {
   "cell_type": "code",
   "execution_count": 27,
   "metadata": {
    "collapsed": false
   },
   "outputs": [
    {
     "data": {
      "text/plain": [
       "41"
      ]
     },
     "execution_count": 27,
     "metadata": {},
     "output_type": "execute_result"
    }
   ],
   "source": [
    "len(new_real_features)"
   ]
  },
  {
   "cell_type": "code",
   "execution_count": 28,
   "metadata": {
    "collapsed": true
   },
   "outputs": [],
   "source": [
    "with open (path+'new_real_features.csv','wb') as fp:\n",
    "    pickle.dump(new_real_features,fp)"
   ]
  },
  {
   "cell_type": "code",
   "execution_count": 8,
   "metadata": {
    "collapsed": true
   },
   "outputs": [],
   "source": [
    "import pickle\n",
    "with open (path+'new_real_features.csv','rb') as fp:\n",
    "    new_real_features=pickle.load(fp)"
   ]
  },
  {
   "cell_type": "markdown",
   "metadata": {},
   "source": [
    "Рассмотрим корреляцию числовых признаков с целевой переменной"
   ]
  },
  {
   "cell_type": "code",
   "execution_count": 31,
   "metadata": {
    "collapsed": false
   },
   "outputs": [
    {
     "name": "stdout",
     "output_type": "stream",
     "text": [
      "x8_XGB     0.593535\n",
      "x30_RF     0.338121\n",
      "x56_XGB    0.217315\n",
      "x34_RF     0.215457\n",
      "x35_RF     0.209959\n",
      "x13_RF     0.198769\n",
      "x23_ln     0.174799\n",
      "x32_RF     0.156383\n",
      "x43_RF     0.155211\n",
      "x44_RF     0.150951\n",
      "dtype: float64\n"
     ]
    },
    {
     "data": {
      "image/png": "[encoded data removed]",
      "text/plain": [
       "<matplotlib.figure.Figure at 0x128776a0>"
      ]
     },
     "metadata": {},
     "output_type": "display_data"
    }
   ],
   "source": [
    "corr_df= np.abs(data_feature_selection[new_real_features].corrwith(y_train, axis=0, drop=False))\\\n",
    "                .sort_values(ascending=False)\n",
    "print (corr_df[:10])\n",
    "corr_df.plot(kind='bar',figsize=(12,6));\n",
    "plt.title(u\"Корреляция числовых признаков с целевой переменной\");"
   ]
  },
  {
   "cell_type": "markdown",
   "metadata": {},
   "source": [
    "**окончательный отбор признаков**"
   ]
  },
  {
   "cell_type": "code",
   "execution_count": 9,
   "metadata": {
    "collapsed": false
   },
   "outputs": [
    {
     "data": {
      "text/plain": [
       "279"
      ]
     },
     "execution_count": 9,
     "metadata": {},
     "output_type": "execute_result"
    }
   ],
   "source": [
    "features_final=list(features_cat)+new_real_features\n",
    "len(features_final)"
   ]
  },
  {
   "cell_type": "markdown",
   "metadata": {},
   "source": [
    "### Часть 8. Построение модели"
   ]
  },
  {
   "cell_type": "markdown",
   "metadata": {},
   "source": [
    "Поскольку мы отобрали признаки для построения модели сформируем датесеты для обучения и тестирования моделей"
   ]
  },
  {
   "cell_type": "code",
   "execution_count": 10,
   "metadata": {
    "collapsed": false
   },
   "outputs": [],
   "source": [
    "X_train=pd.concat([data_cat,data_cat_LE,data_cat_conj,data_means_map,deanonimiz_data, \\\n",
    "                      features_train_XGB, new_data_real, data_real_ln, data_real_53_61, data_discrete], axis=1) \\\n",
    "                      [features_final]  "
   ]
  },
  {
   "cell_type": "code",
   "execution_count": 11,
   "metadata": {
    "collapsed": false
   },
   "outputs": [],
   "source": [
    "del data_cat,data_cat_LE,data_cat_conj,data_means_map,deanonimiz_data, \\\n",
    "    features_train_XGB, new_data_real, data_real_ln, data_real_53_61, data_discrete"
   ]
  },
  {
   "cell_type": "code",
   "execution_count": 12,
   "metadata": {
    "collapsed": false
   },
   "outputs": [
    {
     "name": "stderr",
     "output_type": "stream",
     "text": [
      "[Parallel(n_jobs=1)]: Done 100 out of 100 | elapsed:  1.1min finished\n"
     ]
    }
   ],
   "source": [
    "%%time\n",
    "from sklearn.ensemble.forest import RandomForestClassifier\n",
    "model = RandomForestClassifier(n_estimators=100,max_features=25,random_state=7,verbose=1)\n",
    "model.fit(X_train, y_train)\n",
    "importances = model.feature_importances_"
   ]
  },
  {
   "cell_type": "code",
   "execution_count": 13,
   "metadata": {
    "collapsed": false
   },
   "outputs": [
    {
     "name": "stdout",
     "output_type": "stream",
     "text": [
      "279\n",
      "x8_XGB     0.195240\n",
      "x57_XGB    0.031667\n",
      "x56_XGB    0.026425\n",
      "x58_XGB    0.022755\n",
      "x38_XGB    0.017767\n",
      "x59_XGB    0.014082\n",
      "x30_RF     0.013372\n",
      "x29_RF     0.009977\n",
      "x60_XGB    0.009711\n",
      "x55_XGB    0.009120\n",
      "Name: importances, dtype: float64\n"
     ]
    },
    {
     "data": {
      "image/png": "[encoded data removed]",
      "text/plain": [
       "<matplotlib.figure.Figure at 0x12b02160>"
      ]
     },
     "metadata": {},
     "output_type": "display_data"
    }
   ],
   "source": [
    "features_full=pd.DataFrame(data=importances, index=list(X_train.columns), columns=['importances'])\n",
    "features_full.sort_values(by='importances', ascending=False, inplace=True)\n",
    "print (features_full.shape[0])\n",
    "print (features_full['importances'][:10])\n",
    "\n",
    "plt.figure(figsize=(18,6))\n",
    "n=100\n",
    "i=0\n",
    "for f in features_full[:n].index:\n",
    "    color='r'\n",
    "    if f in new_real_features:\n",
    "        color='c'\n",
    "    plt.bar(i,features_full.ix[f],color=color)\n",
    "    i+=1\n",
    "\n",
    "labels=features_full[:n].reset_index()['index'].tolist()    \n",
    "xticks_pos=[i for i in range(len(features_full[:n]))]    \n",
    "plt.xticks(xticks_pos,labels,rotation=90) \n",
    "\n",
    "plt.yscale('log')\n",
    "plt.ylabel(\"Log Y\")\n",
    "plt.title(u\"Важность признаков\");"
   ]
  },
  {
   "cell_type": "markdown",
   "metadata": {},
   "source": [
    "сформируем датасеты тестирования моделей"
   ]
  },
  {
   "cell_type": "code",
   "execution_count": 14,
   "metadata": {
    "collapsed": false
   },
   "outputs": [],
   "source": [
    "data_test_cat= pd.read_csv(path+'data_test_cat.csv')\n",
    "data_test_cat_LE= pd.read_csv(path+'data_test_cat_LE.csv')\n",
    "data_test_cat_conj= pd.read_csv(path+'data_test_cat_conj.csv')\n",
    "data_test_means_map= pd.read_csv(path+'data_test_means_map.csv') \n",
    "deanonimiz_data_test=pd.read_csv(path+'deanonimiz_data_test.csv')\n",
    "data_test_XGB= pd.read_csv(path+'data_test_XGB.csv')\n",
    "features_test_XGB=pd.read_csv(path+'features_test_XGB.csv')\n",
    "new_data_test_real= pd.read_csv(path+'new_data_test_real.csv') \n",
    "data_test_real_ln= pd.read_csv(path+'data_test_real_ln.csv')\n",
    "data_test_real_53_61= pd.read_csv(path+'data_real_53_61.csv')\n",
    "data_test_discrete= pd.read_csv(path+'data_test_discrete.csv')"
   ]
  },
  {
   "cell_type": "code",
   "execution_count": 15,
   "metadata": {
    "collapsed": false
   },
   "outputs": [],
   "source": [
    "X_test=pd.concat([data_test_cat,data_test_cat_LE,data_test_cat_conj,data_test_means_map,deanonimiz_data_test, \\\n",
    "                      features_test_XGB, new_data_test_real, data_test_real_ln, data_test_real_53_61,\\\n",
    "                      data_test_discrete], axis=1) [features_final]"
   ]
  },
  {
   "cell_type": "code",
   "execution_count": 16,
   "metadata": {
    "collapsed": true
   },
   "outputs": [],
   "source": [
    "del data_test_cat,data_test_cat_LE,data_test_cat_conj,data_test_means_map,deanonimiz_data_test, \\\n",
    "    features_test_XGB, new_data_test_real, data_test_real_ln, data_test_real_53_61, data_test_discrete"
   ]
  },
  {
   "cell_type": "code",
   "execution_count": 17,
   "metadata": {
    "collapsed": true
   },
   "outputs": [],
   "source": [
    "y_test= pd.read_csv(path+'ans.csv')['y']"
   ]
  },
  {
   "cell_type": "markdown",
   "metadata": {
    "collapsed": true
   },
   "source": [
    "Такое количество признаков может быть избыточно для определенных классификаторов. Определим оптимальное количество признаков в зависимости от классификатора. Попробуем пять разных моделей классификации. в качестве метрики качества моделей будем использовать accuracy"
   ]
  },
  {
   "cell_type": "code",
   "execution_count": 180,
   "metadata": {
    "collapsed": true
   },
   "outputs": [],
   "source": [
    "figsize(12, 6)"
   ]
  },
  {
   "cell_type": "markdown",
   "metadata": {},
   "source": [
    "**RandomForestClassifier**"
   ]
  },
  {
   "cell_type": "code",
   "execution_count": 206,
   "metadata": {
    "collapsed": false
   },
   "outputs": [
    {
     "name": "stderr",
     "output_type": "stream",
     "text": [
      "100%|██████████████████████████████████████████| 45/45 [27:07<00:00, 52.92s/it]\n"
     ]
    }
   ],
   "source": [
    "from sklearn.cross_validation import cross_val_score\n",
    "scores_features=[]\n",
    "for n in tqdm(range(1,20,1)+range(20,len(features_final),10)):\n",
    "    scores_features_=cross_val_score(RandomForestClassifier(n_estimators=100,max_features='auto',\n",
    "                                     random_state=7,verbose=1),\\\n",
    "                                     X_train[features_full.index[:n]], y_train, n_jobs=-1, scoring=\"accuracy\", cv=3)\n",
    "    \n",
    "    scores_features.append(np.mean(scores_features_))"
   ]
  },
  {
   "cell_type": "code",
   "execution_count": 211,
   "metadata": {
    "collapsed": false
   },
   "outputs": [
    {
     "name": "stdout",
     "output_type": "stream",
     "text": [
      "max accuracy : 0.741\n",
      "Количество признаков в модели при max accuracy : 16\n"
     ]
    },
    {
     "data": {
      "image/png": "[encoded data removed]",
      "text/plain": [
       "<matplotlib.figure.Figure at 0x10bffd68>"
      ]
     },
     "metadata": {},
     "output_type": "display_data"
    }
   ],
   "source": [
    "plot(range(1,20,1)+range(20,len(features_final),10), scores_features);\n",
    "plt.xlabel(\"Количество признаков в модели\")\n",
    "plt.ylabel(\"accuracy\")\n",
    "print(\"max accuracy : {:0.3f}\".format(np.around(max(scores_features),3)))\n",
    "print(\"Количество признаков в модели при max accuracy : \\\n",
    "{:0.0f}\".format((range(1,20,1)+range(20,len(features_final),10))[np.argmax(scores_features)]))"
   ]
  },
  {
   "cell_type": "markdown",
   "metadata": {},
   "source": [
    "Используем более \"правильный\" алгоритм определения оптимального количества признаков - рекурсивное удаление признаков с кросвалидацией - RFECV"
   ]
  },
  {
   "cell_type": "code",
   "execution_count": 18,
   "metadata": {
    "collapsed": false
   },
   "outputs": [
    {
     "data": {
      "text/plain": [
       "279"
      ]
     },
     "execution_count": 18,
     "metadata": {},
     "output_type": "execute_result"
    }
   ],
   "source": [
    "len(features_full)"
   ]
  },
  {
   "cell_type": "code",
   "execution_count": 19,
   "metadata": {
    "collapsed": false
   },
   "outputs": [
    {
     "name": "stdout",
     "output_type": "stream",
     "text": [
      "Optimal number of features : 17\n"
     ]
    },
    {
     "data": {
      "image/png": "[encoded data removed]",
      "text/plain": [
       "<matplotlib.figure.Figure at 0xf783160>"
      ]
     },
     "metadata": {},
     "output_type": "display_data"
    },
    {
     "name": "stdout",
     "output_type": "stream",
     "text": [
      "Wall time: 14h 17min 25s\n"
     ]
    }
   ],
   "source": [
    "%%time\n",
    "# https://stackoverflow.com/questions/24123498/recursive-feature-elimination-on-random-forest-using-scikit-learn\n",
    "#http://scikit-learn.org/stable/auto_examples/feature_selection/plot_rfe_with_cross_validation.html\n",
    "from sklearn.feature_selection import RFECV\n",
    "\n",
    "n_features=279\n",
    "rf = RandomForestClassifier(n_estimators=100,max_features='auto',random_state=7)\n",
    "rfecv = RFECV(estimator=rf, step=1, cv=5, scoring='accuracy')\n",
    "rfecv.fit(X_train[features_full.index[:n_features]], y_train)\n",
    "\n",
    "print(\"Optimal number of features : %d\" % rfecv.n_features_)\n",
    "\n",
    "# Plot number of features VS. cross-validation scores\n",
    "plt.figure()\n",
    "plt.xlabel(\"Number of features selected\")\n",
    "plt.ylabel(\"Cross validation score (nb of correct classifications)\")\n",
    "plt.plot(range(1, len(rfecv.grid_scores_) + 1), rfecv.grid_scores_)\n",
    "plt.show()"
   ]
  },
  {
   "cell_type": "markdown",
   "metadata": {},
   "source": [
    "Получаем близкий результат по сравнению с простым обходом отранжированных по важности признаков (17 против 16). При этом метод более ресурсозатратен. В дальнейшем используем первый метод отбора оптимального количества признаков."
   ]
  },
  {
   "cell_type": "markdown",
   "metadata": {
    "collapsed": true
   },
   "source": [
    "**GradientBoostingClassifier**"
   ]
  },
  {
   "cell_type": "code",
   "execution_count": 166,
   "metadata": {
    "collapsed": false
   },
   "outputs": [
    {
     "name": "stderr",
     "output_type": "stream",
     "text": [
      "\n",
      "  0%|                                                   | 0/27 [00:00<?, ?it/s]\n",
      "\n",
      "  4%|█▍                                      | 1/27 [05:37<2:26:11, 337.37s/it]\n",
      "  7%|██▉                                     | 2/27 [16:06<2:57:05, 425.02s/it]\n",
      " 11%|████▍                                   | 3/27 [32:34<3:57:28, 593.68s/it]\n",
      " 15%|█████▉                                  | 4/27 [53:24<5:03:05, 790.66s/it]\n",
      " 19%|██████▊                              | 5/27 [1:19:02<6:12:06, 1014.84s/it]\n",
      " 22%|████████▏                            | 6/27 [1:51:15<7:31:39, 1290.46s/it]\n",
      " 26%|█████████▌                           | 7/27 [2:28:52<8:46:45, 1580.29s/it]\n",
      " 30%|██████████▉                          | 8/27 [3:08:37<9:36:54, 1821.80s/it]\n",
      " 33%|████████████                        | 9/27 [3:51:44<10:15:20, 2051.13s/it]\n",
      " 37%|████████████▉                      | 10/27 [4:41:57<11:02:57, 2339.85s/it]\n",
      " 41%|██████████████▎                    | 11/27 [5:38:13<11:46:53, 2650.82s/it]\n",
      " 44%|███████████████▌                   | 12/27 [6:38:09<12:13:34, 2934.32s/it]\n",
      " 48%|████████████████▊                  | 13/27 [7:41:58<12:27:15, 3202.52s/it]\n",
      " 52%|██████████████████▏                | 14/27 [8:44:49<12:10:51, 3373.20s/it]\n",
      " 56%|███████████████████▍               | 15/27 [9:50:27<11:48:31, 3542.61s/it]\n",
      " 59%|████████████████████▏             | 16/27 [11:08:18<11:51:33, 3881.20s/it]\n",
      " 63%|█████████████████████▍            | 17/27 [12:25:06<11:23:10, 4099.07s/it]\n",
      " 67%|██████████████████████▋           | 18/27 [13:51:30<11:03:42, 4424.68s/it]\n",
      " 70%|███████████████████████▉          | 19/27 [15:24:00<10:34:58, 4762.32s/it]\n",
      " 74%|█████████████████████████▉         | 20/27 [17:00:37<9:51:48, 5072.57s/it]\n",
      " 78%|███████████████████████████▏       | 21/27 [18:32:15<8:40:01, 5200.26s/it]\n",
      " 81%|████████████████████████████▌      | 22/27 [20:00:04<7:15:04, 5220.99s/it]\n",
      " 85%|█████████████████████████████▊     | 23/27 [21:28:36<5:49:52, 5248.08s/it]\n",
      " 89%|███████████████████████████████    | 24/27 [23:00:09<4:26:04, 5321.67s/it]\n",
      " 93%|████████████████████████████████▍  | 25/27 [24:31:02<2:58:41, 5360.97s/it]\n",
      " 96%|█████████████████████████████████▋ | 26/27 [26:09:04<1:31:57, 5517.51s/it]\n",
      "100%|█████████████████████████████████████| 27/27 [27:42:44<00:00, 5548.01s/it]\n"
     ]
    }
   ],
   "source": [
    "from tqdm import tqdm \n",
    "from sklearn.ensemble import GradientBoostingClassifier\n",
    "\n",
    "scores_features2=[]\n",
    "for n in tqdm(range(10,len(features_final),10)):\n",
    "    scores_features_=cross_val_score(GradientBoostingClassifier(max_depth=10,n_estimators=100,\n",
    "                                     random_state=7,verbose=0),\\\n",
    "                                     X_train[features_full.index[:n]], y_train, n_jobs=-1, scoring=\"accuracy\", cv=3)\n",
    "    \n",
    "    scores_features2.append(np.mean(scores_features_))"
   ]
  },
  {
   "cell_type": "code",
   "execution_count": 190,
   "metadata": {
    "collapsed": false
   },
   "outputs": [
    {
     "name": "stdout",
     "output_type": "stream",
     "text": [
      "max accuracy : 0.747\n",
      "Количество признаков в модели при max accuracy : 140\n"
     ]
    },
    {
     "data": {
      "image/png": "[encoded data removed]",
      "text/plain": [
       "<matplotlib.figure.Figure at 0x12750ac8>"
      ]
     },
     "metadata": {},
     "output_type": "display_data"
    }
   ],
   "source": [
    "plot(range(10,len(features_final),10), scores_features2);\n",
    "plt.xlabel(\"Количество признаков в модели\")\n",
    "plt.ylabel(\"accuracy\")\n",
    "print(\"max accuracy : {:0.3f}\".format(np.around(max(scores_features2),3)))\n",
    "print(\"Количество признаков в модели при max accuracy : \\\n",
    "{:0.0f}\".format(range(10,len(features_final),10)[np.argmax(scores_features2)]))"
   ]
  },
  {
   "cell_type": "markdown",
   "metadata": {},
   "source": [
    "**KNeighborsClassifier**"
   ]
  },
  {
   "cell_type": "code",
   "execution_count": 202,
   "metadata": {
    "collapsed": false
   },
   "outputs": [
    {
     "name": "stderr",
     "output_type": "stream",
     "text": [
      "100%|██████████████████████████████████████████| 45/45 [24:31<00:00, 92.36s/it]\n"
     ]
    }
   ],
   "source": [
    "from sklearn.neighbors import KNeighborsClassifier\n",
    "\n",
    "scores_features3=[]\n",
    "for n in tqdm(range(1,20,1)+range(20,len(features_final),10)):\n",
    "    scores_features_=cross_val_score(KNeighborsClassifier(n_neighbors=25,n_jobs=-1),\\\n",
    "                                     X_train[features_full.index[:n]], y_train, n_jobs=-1, scoring=\"accuracy\", cv=3)\n",
    "    \n",
    "    scores_features3.append(np.mean(scores_features_))"
   ]
  },
  {
   "cell_type": "code",
   "execution_count": 203,
   "metadata": {
    "collapsed": false
   },
   "outputs": [
    {
     "name": "stdout",
     "output_type": "stream",
     "text": [
      "max accuracy : 0.732\n",
      "Количество признаков в модели при max accuracy : 2\n"
     ]
    },
    {
     "data": {
      "image/png": "[encoded data removed]",
      "text/plain": [
       "<matplotlib.figure.Figure at 0x12bf1390>"
      ]
     },
     "metadata": {},
     "output_type": "display_data"
    }
   ],
   "source": [
    "plot(range(1,20,1)+range(20,len(features_final),10), scores_features3);\n",
    "plt.xlabel(\"Количество признаков в модели\")\n",
    "plt.ylabel(\"accuracy\")\n",
    "print(\"max accuracy : {:0.3f}\".format(np.around(max(scores_features3),3)))\n",
    "print(\"Количество признаков в модели при max accuracy : \\\n",
    "{:0.0f}\".format((range(1,20,1)+range(20,len(features_final),10))[np.argmax(scores_features3)]))"
   ]
  },
  {
   "cell_type": "markdown",
   "metadata": {},
   "source": [
    "**LinearSVC**"
   ]
  },
  {
   "cell_type": "code",
   "execution_count": 204,
   "metadata": {
    "collapsed": false
   },
   "outputs": [
    {
     "name": "stderr",
     "output_type": "stream",
     "text": [
      "100%|███████████████████████████████████████| 45/45 [2:17:06<00:00, 364.62s/it]\n"
     ]
    }
   ],
   "source": [
    "from sklearn.svm import LinearSVC\n",
    "\n",
    "scores_features4=[]\n",
    "for n in tqdm(range(1,20,1)+range(20,len(features_final),10)):\n",
    "    scores_features_=cross_val_score(LinearSVC(C=1.0, multi_class='ovr', random_state=7),\\\n",
    "                                     X_train[features_full.index[:n]], y_train, n_jobs=-1, scoring=\"accuracy\", cv=3)\n",
    "    \n",
    "    scores_features4.append(np.mean(scores_features_))"
   ]
  },
  {
   "cell_type": "code",
   "execution_count": 205,
   "metadata": {
    "collapsed": false
   },
   "outputs": [
    {
     "name": "stdout",
     "output_type": "stream",
     "text": [
      "max accuracy : 0.553\n",
      "Количество признаков в модели при max accuracy : 6\n"
     ]
    },
    {
     "data": {
      "image/png": "[encoded data removed]",
      "text/plain": [
       "<matplotlib.figure.Figure at 0x10c5ada0>"
      ]
     },
     "metadata": {},
     "output_type": "display_data"
    }
   ],
   "source": [
    "plot(range(1,20,1)+range(20,len(features_final),10), scores_features4);\n",
    "plt.xlabel(\"Количество признаков в модели\")\n",
    "plt.ylabel(\"accuracy\")\n",
    "print(\"max accuracy : {:0.3f}\".format(np.around(max(scores_features4),3)))\n",
    "print(\"Количество признаков в модели при max accuracy : \\\n",
    "{:0.0f}\".format((range(1,20,1)+range(20,len(features_final),10))[np.argmax(scores_features4)]))"
   ]
  },
  {
   "cell_type": "markdown",
   "metadata": {},
   "source": [
    "**LogisticRegression**"
   ]
  },
  {
   "cell_type": "code",
   "execution_count": 212,
   "metadata": {
    "collapsed": false
   },
   "outputs": [
    {
     "name": "stderr",
     "output_type": "stream",
     "text": [
      "100%|██████████████████████████████████████████| 45/45 [09:05<00:00, 17.96s/it]\n"
     ]
    }
   ],
   "source": [
    "from sklearn.linear_model import LogisticRegression\n",
    "\n",
    "scores_features5=[]\n",
    "for n in tqdm(range(1,20,1)+range(20,len(features_final),10)):\n",
    "    scores_features_=cross_val_score(LogisticRegression(solver='lbfgs', multi_class='multinomial'),\\\n",
    "                                     X_train[features_full.index[:n]], y_train, n_jobs=-1, scoring=\"accuracy\", cv=3)\n",
    "    \n",
    "    scores_features5.append(np.mean(scores_features_))"
   ]
  },
  {
   "cell_type": "code",
   "execution_count": 213,
   "metadata": {
    "collapsed": false
   },
   "outputs": [
    {
     "name": "stdout",
     "output_type": "stream",
     "text": [
      "max accuracy : 0.553\n",
      "Количество признаков в модели при max accuracy : 5\n"
     ]
    },
    {
     "data": {
      "image/png": "[encoded data removed]",
      "text/plain": [
       "<matplotlib.figure.Figure at 0x10bd34e0>"
      ]
     },
     "metadata": {},
     "output_type": "display_data"
    }
   ],
   "source": [
    "plot(range(1,20,1)+range(20,len(features_final),10), scores_features5);\n",
    "plt.xlabel(\"Количество признаков в модели\")\n",
    "plt.ylabel(\"accuracy\")\n",
    "print(\"max accuracy : {:0.3f}\".format(np.around(max(scores_features5),3)))\n",
    "print(\"Количество признаков в модели при max accuracy : \\\n",
    "{:0.0f}\".format((range(1,20,1)+range(20,len(features_final),10))[np.argmax(scores_features5)]))"
   ]
  },
  {
   "cell_type": "markdown",
   "metadata": {},
   "source": [
    "**LogisticRegression L2**"
   ]
  },
  {
   "cell_type": "code",
   "execution_count": 214,
   "metadata": {
    "collapsed": false
   },
   "outputs": [
    {
     "name": "stderr",
     "output_type": "stream",
     "text": [
      "100%|██████████████████████████████████████| 45/45 [6:56:43<00:00, 1618.22s/it]\n"
     ]
    }
   ],
   "source": [
    "from sklearn.linear_model import LogisticRegression\n",
    "\n",
    "scores_features5=[]\n",
    "for n in tqdm(range(1,20,1)+range(20,len(features_final),10)):\n",
    "    scores_features_=cross_val_score(LogisticRegression(penalty='l2'),\\\n",
    "                                     X_train[features_full.index[:n]], y_train, n_jobs=-1, scoring=\"accuracy\", cv=3)\n",
    "    \n",
    "    scores_features5.append(np.mean(scores_features_))"
   ]
  },
  {
   "cell_type": "code",
   "execution_count": 215,
   "metadata": {
    "collapsed": false
   },
   "outputs": [
    {
     "name": "stdout",
     "output_type": "stream",
     "text": [
      "max accuracy : 0.553\n",
      "Количество признаков в модели при max accuracy : 60\n"
     ]
    },
    {
     "data": {
      "image/png": "[encoded data removed]",
      "text/plain": [
       "<matplotlib.figure.Figure at 0x127504a8>"
      ]
     },
     "metadata": {},
     "output_type": "display_data"
    }
   ],
   "source": [
    "plot(range(1,20,1)+range(20,len(features_final),10), scores_features5);\n",
    "plt.xlabel(\"Количество признаков в модели\")\n",
    "plt.ylabel(\"accuracy\")\n",
    "print(\"max accuracy : {:0.3f}\".format(np.around(max(scores_features5),3)))\n",
    "print(\"Количество признаков в модели при max accuracy : \\\n",
    "{:0.0f}\".format((range(1,20,1)+range(20,len(features_final),10))[np.argmax(scores_features5)]))"
   ]
  },
  {
   "cell_type": "markdown",
   "metadata": {
    "collapsed": true
   },
   "source": [
    "Для дальнейшего подбора параметров классификаторов отберем  следующие модели:\n",
    "\n",
    "    RandomForestClassifier - 16 признаков\n",
    "    GradientBoostingClassifier - 140 признаков\n",
    "    KNeighborsClassifier - 2 признаков"
   ]
  },
  {
   "cell_type": "markdown",
   "metadata": {},
   "source": [
    "### Часть 9. Кросс-валидация, подбор параметров"
   ]
  },
  {
   "cell_type": "code",
   "execution_count": 26,
   "metadata": {
    "collapsed": true
   },
   "outputs": [],
   "source": [
    "from tqdm import tqdm \n",
    "from sklearn.cross_validation import cross_val_score\n",
    "from sklearn.ensemble.forest import RandomForestClassifier\n",
    "from sklearn.ensemble import GradientBoostingClassifier\n",
    "from sklearn.neighbors import KNeighborsClassifier"
   ]
  },
  {
   "cell_type": "markdown",
   "metadata": {},
   "source": [
    "**RandomForestClassifier**"
   ]
  },
  {
   "cell_type": "code",
   "execution_count": 216,
   "metadata": {
    "collapsed": false
   },
   "outputs": [
    {
     "name": "stderr",
     "output_type": "stream",
     "text": [
      "100%|██████████████████████████████████████████| 23/23 [07:23<00:00, 26.40s/it]\n"
     ]
    }
   ],
   "source": [
    "scores_features=[]\n",
    "n_features=16\n",
    "for depth in tqdm(range(2,25,1)):\n",
    "    scores_features_=cross_val_score(RandomForestClassifier(max_depth=depth, n_estimators=100,max_features='auto',\n",
    "                            random_state=7,verbose=1),\\\n",
    "                            X_train[features_full.index[:n_features]], y_train, n_jobs=-1, scoring=\"accuracy\", cv=3)\n",
    "    \n",
    "    scores_features.append(np.mean(scores_features_))"
   ]
  },
  {
   "cell_type": "code",
   "execution_count": 222,
   "metadata": {
    "collapsed": false
   },
   "outputs": [
    {
     "name": "stdout",
     "output_type": "stream",
     "text": [
      "max accuracy : 0.743\n",
      "Значение параметра max_depth RandomForestClassifier при max accuracy : 14\n"
     ]
    },
    {
     "data": {
      "image/png": "[encoded data removed]",
      "text/plain": [
       "<matplotlib.figure.Figure at 0x10c1a4e0>"
      ]
     },
     "metadata": {},
     "output_type": "display_data"
    }
   ],
   "source": [
    "plot(range(2,25,1), scores_features);\n",
    "plt.xlabel(\"Значение параметра max_depth RandomForestClassifier\")\n",
    "plt.ylabel(\"accuracy\")\n",
    "print(\"max accuracy : {:0.3f}\".format(np.around(max(scores_features),3)))\n",
    "print(\"Значение параметра max_depth RandomForestClassifier при max accuracy : \\\n",
    "{:0.0f}\".format(range(2,25,1)[np.argmax(scores_features)]))"
   ]
  },
  {
   "cell_type": "markdown",
   "metadata": {
    "collapsed": true
   },
   "source": [
    "**GradientBoostingClassifier**"
   ]
  },
  {
   "cell_type": "code",
   "execution_count": 223,
   "metadata": {
    "collapsed": false
   },
   "outputs": [
    {
     "name": "stderr",
     "output_type": "stream",
     "text": [
      "100%|████████████████████████████████████| 23/23 [44:57:21<00:00, 11708.40s/it]\n"
     ]
    }
   ],
   "source": [
    "n_features=140\n",
    "scores_features2=[]\n",
    "for depth in tqdm(range(2,25,1)):\n",
    "    scores_features_=cross_val_score(GradientBoostingClassifier(max_depth=depth,n_estimators=100,\n",
    "                            random_state=7,verbose=0),\\\n",
    "                            X_train[features_full.index[:n_features]], y_train, n_jobs=-1, scoring=\"accuracy\", cv=3)\n",
    "    \n",
    "    scores_features2.append(np.mean(scores_features_))"
   ]
  },
  {
   "cell_type": "code",
   "execution_count": 226,
   "metadata": {
    "collapsed": false
   },
   "outputs": [
    {
     "name": "stdout",
     "output_type": "stream",
     "text": [
      "max accuracy : 0.749\n",
      "Значение параметра max_depth GradientBoostingClassifier при max accuracy : 5\n"
     ]
    },
    {
     "data": {
      "image/png": "[encoded data removed]",
      "text/plain": [
       "<matplotlib.figure.Figure at 0x127a77f0>"
      ]
     },
     "metadata": {},
     "output_type": "display_data"
    }
   ],
   "source": [
    "plot(range(2,25,1), scores_features2);\n",
    "plt.xlabel(\"Значение параметра max_depth GradientBoostingClassifier\")\n",
    "plt.ylabel(\"accuracy\")\n",
    "print(\"max accuracy : {:0.3f}\".format(np.around(max(scores_features2),3)))\n",
    "print(\"Значение параметра max_depth GradientBoostingClassifier при max accuracy : \\\n",
    "{:0.0f}\".format(range(2,25,1)[np.argmax(scores_features2)]))"
   ]
  },
  {
   "cell_type": "markdown",
   "metadata": {},
   "source": [
    "GradientBoostingClassifier имеет большое количество настраиваемых параметров. Попробуем более подробно поперебирать параметры, чтобы поискать лучшую модель"
   ]
  },
  {
   "cell_type": "code",
   "execution_count": 23,
   "metadata": {
    "collapsed": false
   },
   "outputs": [
    {
     "name": "stdout",
     "output_type": "stream",
     "text": [
      "Fitting 3 folds for each of 45 candidates, totalling 135 fits\n"
     ]
    },
    {
     "name": "stderr",
     "output_type": "stream",
     "text": [
      "[Parallel(n_jobs=-1)]: Done  42 tasks      | elapsed: 277.9min\n",
      "[Parallel(n_jobs=-1)]: Done 135 out of 135 | elapsed: 761.8min finished\n"
     ]
    },
    {
     "name": "stdout",
     "output_type": "stream",
     "text": [
      "GradientBoostingClassifier 0.752646464646 \n",
      " {u'n_estimators': 100, u'learning_rate': 0.1, u'min_samples_leaf': 30}\n",
      "Wall time: 12h 51min 25s\n"
     ]
    }
   ],
   "source": [
    "%%time\n",
    "# project_example_banks\n",
    "from sklearn.grid_search import GridSearchCV\n",
    "from sklearn.cross_validation import StratifiedKFold\n",
    "\n",
    "n_features=140\n",
    "\n",
    "gbm_params = { 'n_estimators': [100,150,200],\n",
    "               'learning_rate':(0.1, 0.5, 1),               \n",
    "               'min_samples_leaf': list(range(10, 31, 5))}\n",
    "\n",
    "# Проводим кросс-валидацию \n",
    "grid = GridSearchCV(GradientBoostingClassifier(max_depth=5), gbm_params, \n",
    "                    cv=StratifiedKFold(y_train, n_folds=3, shuffle=False, random_state=7), \n",
    "                    n_jobs=-1, scoring=\"accuracy\",verbose=1)\n",
    "\n",
    "grid.fit(X_train[features_full.index[:n_features]], y_train)\n",
    "print('GradientBoostingClassifier', grid.best_score_ , \"\\n\", grid.best_params_)"
   ]
  },
  {
   "cell_type": "markdown",
   "metadata": {
    "collapsed": true
   },
   "source": [
    "**KNeighborsClassifier**"
   ]
  },
  {
   "cell_type": "code",
   "execution_count": 24,
   "metadata": {
    "collapsed": true
   },
   "outputs": [],
   "source": [
    "from sklearn.preprocessing import StandardScaler\n",
    "scaler = StandardScaler()\n",
    "n_features=2\n",
    "X_scaled = scaler.fit_transform(X_train[features_full.index[:n_features]])"
   ]
  },
  {
   "cell_type": "code",
   "execution_count": 29,
   "metadata": {
    "collapsed": false,
    "scrolled": true
   },
   "outputs": [
    {
     "name": "stdout",
     "output_type": "stream",
     "text": [
      "Wall time: 5min 30s\n"
     ]
    }
   ],
   "source": [
    "%%time\n",
    "from sklearn.neighbors import KNeighborsClassifier\n",
    "scores_features3=[]\n",
    "neighb = np.arange(1,76,1)\n",
    "for n in neighb:\n",
    "    scores_features_ = cross_val_score(KNeighborsClassifier(n_neighbors=n),X_scaled, y_train, n_jobs=-1,\n",
    "                            scoring=\"accuracy\", cv=3)\n",
    "    \n",
    "    scores_features3.append(np.mean(scores_features_))"
   ]
  },
  {
   "cell_type": "code",
   "execution_count": 33,
   "metadata": {
    "collapsed": false
   },
   "outputs": [
    {
     "name": "stdout",
     "output_type": "stream",
     "text": [
      "max accuracy : 0.733\n",
      "Значение параметра max_depth KNeighborsClassifier при max accuracy : 30\n"
     ]
    },
    {
     "data": {
      "image/png": "[encoded data removed]",
      "text/plain": [
       "<matplotlib.figure.Figure at 0x12a03898>"
      ]
     },
     "metadata": {},
     "output_type": "display_data"
    }
   ],
   "source": [
    "plot(neighb, scores_features3);\n",
    "plt.xlabel(\"Значение параметра max_depth KNeighborsClassifier\")\n",
    "plt.ylabel(\"accuracy\")\n",
    "print(\"max accuracy : {:0.3f}\".format(np.around(max(scores_features3),3)))\n",
    "print(\"Значение параметра max_depth KNeighborsClassifier при max accuracy : \\\n",
    "{:0.0f}\".format(neighb[np.argmax(scores_features3)]))"
   ]
  },
  {
   "cell_type": "markdown",
   "metadata": {},
   "source": [
    "RandomForestClassifier, GradientBoostingClassifier, KNeighborsClassifier будем использовать дальше при смешивании классификаторов (blending) и постороении классификатора над другими классификаторами (stacking)"
   ]
  },
  {
   "cell_type": "raw",
   "metadata": {},
   "source": [
    "    RandomForestClassifier - 0.743 \n",
    "    GradientBoostingClassifier - 0.753\n",
    "    KNeighborsClassifier - 0.733"
   ]
  },
  {
   "cell_type": "markdown",
   "metadata": {},
   "source": [
    "### Часть 10. Кривые валидации и обучения"
   ]
  },
  {
   "cell_type": "code",
   "execution_count": 36,
   "metadata": {
    "collapsed": false
   },
   "outputs": [],
   "source": [
    "from sklearn.learning_curve import validation_curve\n",
    "from sklearn.learning_curve import learning_curve"
   ]
  },
  {
   "cell_type": "code",
   "execution_count": 37,
   "metadata": {
    "collapsed": true
   },
   "outputs": [],
   "source": [
    "def plot_with_std(x, data, **kwargs):\n",
    "        mu, std = data.mean(1), data.std(1)\n",
    "        lines = plt.plot(x, mu, '-', **kwargs)\n",
    "        plt.fill_between(x, mu - std, mu + std, edgecolor='none',\n",
    "                         facecolor=lines[0].get_color(), alpha=0.2)\n",
    "\n",
    "def plot_learning_curve(clf, X, y, scoring, cv=5):\n",
    " \n",
    "    train_sizes = np.linspace(0.05, 1, 20)\n",
    "    n_train, val_train, val_test = learning_curve(clf, X, y, train_sizes, cv=cv, scoring=scoring)\n",
    "    \n",
    "    plt.figure(figsize=(12,6))\n",
    "    plot_with_std(n_train, val_train, label='training scores', c='green')\n",
    "    plot_with_std(n_train, val_test, label='validation scores', c='red')    \n",
    "    plt.xlabel('Training Set Size');     \n",
    "    plt.ylabel(scoring)\n",
    "    plt.legend()\n",
    "\n",
    "def plot_validation_curve(clf, X, y, cv_param_name, \n",
    "                          cv_param_values, scoring):\n",
    "\n",
    "    val_train, val_test = validation_curve(clf, X, y, cv_param_name, cv_param_values, cv=5, scoring=scoring)\n",
    "    \n",
    "    plt.figure(figsize=(12,6))\n",
    "    plot_with_std(cv_param_values, val_train, \n",
    "                  label='training scores', c='green')\n",
    "    plot_with_std(cv_param_values, val_test, \n",
    "                  label='validation scores', c='red')   \n",
    "    plt.xlabel(cv_param_name);     \n",
    "    plt.ylabel(scoring)\n",
    "    plt.legend()"
   ]
  },
  {
   "cell_type": "code",
   "execution_count": 38,
   "metadata": {
    "collapsed": false
   },
   "outputs": [
    {
     "name": "stdout",
     "output_type": "stream",
     "text": [
      "Wall time: 2h 58min 18s\n"
     ]
    },
    {
     "data": {
      "image/png": "[encoded data removed]",
      "text/plain": [
       "<matplotlib.figure.Figure at 0xd7b4b38>"
      ]
     },
     "metadata": {},
     "output_type": "display_data"
    }
   ],
   "source": [
    "%%time\n",
    "# Кривая обучения\n",
    "n_features=140\n",
    "plot_learning_curve(GradientBoostingClassifier(max_depth=5, n_estimators=100, learning_rate=0.1, min_samples_leaf=30,\n",
    "                                           max_features='auto',random_state=7),\n",
    "                   X_train[features_full.index[:n_features]], y_train, scoring='accuracy', cv=3)"
   ]
  },
  {
   "cell_type": "markdown",
   "metadata": {},
   "source": [
    "Поскольку объем данных ограничен, разумно поварьировать размер имеющейся обучающей выборки и посмотреть, как качество решения задачи зависит от объема данных, на котором мы обучали модель. Так получаются кривые обучения (learning curves). На полученой кривой обучения видно, что оценка обучения находится на максимальном уровне. В текущем датасете нам явно не хватает данных для обучения. Хорошая тенденция, когда кривые постепенно сходятся, и если добавлять в модель данные, можно дальше повышать качество на валидации."
   ]
  },
  {
   "cell_type": "code",
   "execution_count": 55,
   "metadata": {
    "collapsed": false,
    "scrolled": false
   },
   "outputs": [
    {
     "name": "stdout",
     "output_type": "stream",
     "text": [
      "Wall time: 1h 12min 51s\n"
     ]
    },
    {
     "data": {
      "image/png": "[encoded data removed]",
      "text/plain": [
       "<matplotlib.figure.Figure at 0x123e1860>"
      ]
     },
     "metadata": {},
     "output_type": "display_data"
    }
   ],
   "source": [
    "%%time\n",
    "# Кривая валидации\n",
    "depth= np.linspace(2, 15, 14)\n",
    "plot_validation_curve(GradientBoostingClassifier( n_estimators=100, learning_rate=0.1, \n",
    "                                                 min_samples_leaf=30, max_features='auto',random_state=7,verbose=0),\n",
    "                    X_train[features_full.index[:n_features]][:5000], y_train[:5000], \n",
    "                    cv_param_name='max_depth', \n",
    "                    cv_param_values=depth,\n",
    "                    scoring='accuracy')"
   ]
  },
  {
   "cell_type": "markdown",
   "metadata": {},
   "source": [
    "Как видно, при достижении определенной глубины деревьев accuracy  выходит на асимптоту и далее начинает плавно снижаться,таким образом можно понять, какая глубина деревьев оптимальна для задачи"
   ]
  },
  {
   "cell_type": "markdown",
   "metadata": {},
   "source": [
    "### Часть 11. Прогноз для тестовой (или отложенной) выборки"
   ]
  },
  {
   "cell_type": "code",
   "execution_count": 57,
   "metadata": {
    "collapsed": false
   },
   "outputs": [
    {
     "name": "stdout",
     "output_type": "stream",
     "text": [
      "Wall time: 10min 6s\n"
     ]
    }
   ],
   "source": [
    "%%time\n",
    "# https://github.com/glebmikha/ipython_notebooks/blob/master/default_prediction.ipynb\n",
    "\n",
    "rf = RandomForestClassifier(max_depth=14, n_estimators=100, max_features='auto', random_state=7)\n",
    "gbm_params = {'n_estimators': 100, 'learning_rate': 0.1, 'min_samples_leaf': 30}\n",
    "gb = GradientBoostingClassifier(max_depth=5, **gbm_params)    \n",
    "knn = KNeighborsClassifier(n_neighbors=30)\n",
    "\n",
    "models = []\n",
    "models.append(rf)\n",
    "models.append(gb)\n",
    "models.append(knn)\n",
    "\n",
    "n_features_list=[16,140,2] # оптимальное количество отранжированных признаков\n",
    "\n",
    "for model, n_features in zip(models,n_features_list):\n",
    "    model.fit(X_train[features_full.index[:n_features]], y_train)"
   ]
  },
  {
   "cell_type": "code",
   "execution_count": 59,
   "metadata": {
    "collapsed": false
   },
   "outputs": [],
   "source": [
    "from sklearn.metrics import accuracy_score\n",
    "accuracy_scr=[]\n",
    "for model, n_features in zip(models,n_features_list):\n",
    "    \n",
    "        pred_scr = model.predict(X_test[features_full.index[:n_features]])# [:, 1]\n",
    "        accuracy_ = accuracy_score(np.array(y_test), pred_scr)\n",
    "        accuracy_scr.append(accuracy_)"
   ]
  },
  {
   "cell_type": "code",
   "execution_count": 74,
   "metadata": {
    "collapsed": false
   },
   "outputs": [
    {
     "name": "stdout",
     "output_type": "stream",
     "text": [
      "RandomForestClassifier  -  0.7402\n",
      "GradientBoostingClassifier  -  0.74938\n",
      "KNeighborsClassifier  -  0.72402\n"
     ]
    },
    {
     "data": {
      "image/png": "[encoded data removed]",
      "text/plain": [
       "<matplotlib.figure.Figure at 0x11a87208>"
      ]
     },
     "metadata": {},
     "output_type": "display_data"
    }
   ],
   "source": [
    "xticks = ['RandomForestClassifier', 'GradientBoostingClassifier', 'KNeighborsClassifier']\n",
    "accuracy = accuracy_scr\n",
    "\n",
    "for x,a in zip(xticks, accuracy):\n",
    "    print (x,' - ', a)\n",
    "\n",
    "plt.figure(figsize=(6, 6))\n",
    "plt.bar(np.arange(len(accuracy)), accuracy, color='#0080AA', label=u'алгоритмы')\n",
    "plt.xticks(np.arange(len(accuracy)), xticks, rotation=45)\n",
    "\n",
    "#plt.xlim([0, 4])\n",
    "plt.ylim([0.65, 0.80])\n",
    "plt.ylabel('accuracy')\n",
    "plt.legend(loc=1);"
   ]
  },
  {
   "cell_type": "markdown",
   "metadata": {},
   "source": [
    "### Часть 12. Блендинг. Смешивание классификаторов"
   ]
  },
  {
   "cell_type": "markdown",
   "metadata": {},
   "source": [
    "Попробуем увеличить качество модели путем смешивания нескольких классификаторов. Кросс-валидацию будем проводить чтобы получить в том числе out_of_fold оценки целевой переменной"
   ]
  },
  {
   "cell_type": "code",
   "execution_count": 78,
   "metadata": {
    "collapsed": true
   },
   "outputs": [],
   "source": [
    "# lesson5_practice_churn_blending_rf_xgboost_solution\n",
    "# https://www.kaggle.com/general/18793\n",
    "def out_of_fold_prediction(clf, train_df, y_series, folds, scale=False):\n",
    "    \n",
    "    prediction = y_series.copy()\n",
    "    for train_idx, test_idx in folds:\n",
    "        X_train, X_test = train_df.iloc[train_idx, :], train_df.iloc[test_idx,:]\n",
    "        y_train, y_test = y_series.iloc[train_idx], y_series.iloc[test_idx]\n",
    "        \n",
    "        if scale:\n",
    "            scaler = StandardScaler()\n",
    "            X_train = scaler.fit_transform(X_train)\n",
    "            X_test = scaler.transform(X_test)\n",
    "        \n",
    "        clf.fit(X_train, y_train)        \n",
    "        prediction.iloc[test_idx] = clf.predict(X_test)#[:, 1]        \n",
    "    return(prediction)"
   ]
  },
  {
   "cell_type": "markdown",
   "metadata": {},
   "source": [
    "Будем смешивать следующие классификаторы RandomForestClassifier, GradientBoostingClassifier и KNeighborsClassifier"
   ]
  },
  {
   "cell_type": "code",
   "execution_count": 79,
   "metadata": {
    "collapsed": false
   },
   "outputs": [
    {
     "name": "stdout",
     "output_type": "stream",
     "text": [
      "CV RandomForestClassifier : 0.743 \n",
      "CV GradientBoostingClassifier: 0.7534 \n",
      "CV KNeighborsClassifier: 0.7322 \n",
      "Wall time: 38min 22s\n"
     ]
    }
   ],
   "source": [
    "%%time\n",
    "folds = StratifiedKFold(y_train, n_folds=5, random_state=7)\n",
    "# будем смешивать RandomForestClassifier, GradientBoostingClassifier и KNeighborsClassifier\n",
    "n_features=16\n",
    "rf_oof_pred = out_of_fold_prediction(rf, X_train[features_full.index[:n_features]], y_train, folds)\n",
    "print('CV RandomForestClassifier : {0} '.format(round(accuracy_score(y_train, rf_oof_pred), 4)))\n",
    "\n",
    "n_features=140\n",
    "gb_oof_pred = out_of_fold_prediction(gb, X_train[features_full.index[:n_features]], y_train, folds)\n",
    "print('CV GradientBoostingClassifier: {0} '.format(round(accuracy_score(y_train, gb_oof_pred), 4)))\n",
    "\n",
    "n_features=2\n",
    "knn_oof_pred = out_of_fold_prediction(knn, X_train[features_full.index[:n_features]], y_train, folds, scale=True)\n",
    "print('CV KNeighborsClassifier: {0} '.format(round(accuracy_score(y_train, knn_oof_pred), 4)))"
   ]
  },
  {
   "cell_type": "markdown",
   "metadata": {},
   "source": [
    "Реализуем функцию которая будет перебирать доли каждой модели для поиска оптимальных долей смешивания классификаторов"
   ]
  },
  {
   "cell_type": "code",
   "execution_count": 117,
   "metadata": {
    "collapsed": false
   },
   "outputs": [],
   "source": [
    "def best_linear_mix(target, pred1, pred2, pred3, metric=accuracy_score):\n",
    "    best_metric, best_w1,  best_w2 = 0, 0, 0\n",
    "    for w1 in np.linspace(0, 1, 50):\n",
    "          for w2 in np.linspace(0, 1-w1, 5):        \n",
    "            curr_pred = (w1 * pred1 +  w2 * pred2 + (1 - w1 - w2) * pred3 )\n",
    "            # accuracy_score требует целочисленных y_true, y_pred -> curr_pred.round()\n",
    "            curr_metric =  metric(target, curr_pred.round())\n",
    "            if curr_metric > best_metric:\n",
    "                best_metric = curr_metric\n",
    "                best_pred = curr_pred\n",
    "                best_w1 = w1\n",
    "                best_w2 = w2\n",
    "            # print (w1, w2, w1+w2)\n",
    "                \n",
    "    return best_metric, best_pred, best_w1, best_w2"
   ]
  },
  {
   "cell_type": "code",
   "execution_count": 118,
   "metadata": {
    "collapsed": false
   },
   "outputs": [
    {
     "name": "stdout",
     "output_type": "stream",
     "text": [
      "Wall time: 1.27 s\n"
     ]
    }
   ],
   "source": [
    "%%time\n",
    "best_acr, best_pred, best_w1, best_w2 = best_linear_mix(y_train, rf_oof_pred, gb_oof_pred, knn_oof_pred)"
   ]
  },
  {
   "cell_type": "code",
   "execution_count": 119,
   "metadata": {
    "collapsed": false
   },
   "outputs": [
    {
     "name": "stdout",
     "output_type": "stream",
     "text": [
      "out_of_fold accuracy_score смешанной модели : 0.753\n"
     ]
    }
   ],
   "source": [
    " print(\"out_of_fold accuracy_score смешанной модели : {:0.3f}\".format(np.around(np.max(best_acr),4)))"
   ]
  },
  {
   "cell_type": "code",
   "execution_count": 120,
   "metadata": {
    "collapsed": false
   },
   "outputs": [
    {
     "data": {
      "text/plain": [
       "(0.0, 1.0)"
      ]
     },
     "execution_count": 120,
     "metadata": {},
     "output_type": "execute_result"
    }
   ],
   "source": [
    "round(best_w1, 2),round(best_w2, 2)"
   ]
  },
  {
   "cell_type": "code",
   "execution_count": 121,
   "metadata": {
    "collapsed": false
   },
   "outputs": [
    {
     "name": "stdout",
     "output_type": "stream",
     "text": [
      "0.7488\n"
     ]
    }
   ],
   "source": [
    "n_features=140\n",
    "gb_pred_scr = gb.predict(X_test[features_full.index[:n_features]])\n",
    "\n",
    "rf_gb_knn =best_w2 * gb_pred_scr  \n",
    "print(round(accuracy_score(y_test, rf_gb_knn), 4))"
   ]
  },
  {
   "cell_type": "markdown",
   "metadata": {},
   "source": [
    "Смешивание трех классификаторов на тестовой выборке не дает прироста качества модели. Более того модель GradientBoostingClassifier забивает все остальные (её вес при объединении классификаторов равен 1.0)"
   ]
  },
  {
   "cell_type": "markdown",
   "metadata": {},
   "source": [
    "         _______________________________________\n",
    "         |  ROC AUC    | Out-of-fold |  Test   |\n",
    "         |_____________|_____________|_________|\n",
    "         | RF          |   .743      |  .740   |\n",
    "         | GB          |   .753      |  .749   |\n",
    "         | Knn         |   .732      |  .724   |\n",
    "         | RF+GB+Knn   |   .753      |  .749   |\n",
    "         |_____________|_____________|_________|"
   ]
  },
  {
   "cell_type": "markdown",
   "metadata": {},
   "source": [
    "### Часть 13. Стэкинг. Построение классификатора над другими классификаторами"
   ]
  },
  {
   "cell_type": "code",
   "execution_count": 122,
   "metadata": {
    "collapsed": true
   },
   "outputs": [],
   "source": [
    "# https://github.com/Dyakonov/ml_hacks/blob/master/dj_stacking.ipynb\n",
    "# https://alexanderdyakonov.wordpress.com/2017/03/10/c%D1%82%D0%B5%D0%BA%D0%B8%D0%BD%D0%B3-stacking-%D0%B8-%D0%B1%D0%BB%D0%B5%D0%BD%D0%B4%D0%B8%D0%BD%D0%B3-blending/"
   ]
  },
  {
   "cell_type": "code",
   "execution_count": 123,
   "metadata": {
    "collapsed": true
   },
   "outputs": [],
   "source": [
    "from sklearn.base import BaseEstimator, ClassifierMixin\n",
    "from sklearn.model_selection import train_test_split\n",
    "from sklearn.model_selection import cross_val_predict\n",
    "\n",
    "class DjStacking(BaseEstimator, ClassifierMixin):  \n",
    "    \"\"\"Стэкинг моделей scikit-learn\"\"\"\n",
    "\n",
    "    def __init__(self, models, ens_model):\n",
    "        \"\"\"\n",
    "        Инициализация\n",
    "        models - базовые модели для стекинга\n",
    "        ens_model - мета-модель\n",
    "        \"\"\"\n",
    "        self.models = models\n",
    "        self.ens_model = ens_model\n",
    "        self.n = len(models)\n",
    "        self.valid = None\n",
    "        \n",
    "    def fit(self, X, y=None, p=0.25, cv=3, err=0.001, random_state=None):\n",
    "        \"\"\"\n",
    "        Обучение стекинга\n",
    "        p - в каком отношении делить на обучение / тест\n",
    "            если p = 0 - используем всё обучение!\n",
    "        cv  (при p=0) - сколько фолдов использовать\n",
    "        err (при p=0) - величина случайной добавки к метапризнакам\n",
    "        random_state - инициализация генератора\n",
    "            \n",
    "        \"\"\"\n",
    "        if (p > 0): # делим на обучение и тест\n",
    "            # разбиение на обучение моделей и метамодели\n",
    "            train, valid, y_train, y_valid = train_test_split(X, y, test_size=p, random_state=random_state)\n",
    "            \n",
    "            # заполнение матрицы для обучения метамодели\n",
    "            self.valid = np.zeros((valid.shape[0], self.n))\n",
    "            for t, clf in enumerate(self.models):\n",
    "                clf.fit(train, y_train)\n",
    "                self.valid[:, t] = clf.predict(valid)\n",
    "                \n",
    "            # обучение метамодели\n",
    "            self.ens_model.fit(self.valid, y_valid)\n",
    "            \n",
    "        else: # используем всё обучение            \n",
    "            # для регуляризации - берём случайные добавки\n",
    "            self.valid = err*np.random.randn(X.shape[0], self.n)\n",
    "            \n",
    "            for t, clf in enumerate(self.models):\n",
    "                # это oob-ответы алгоритмов\n",
    "                self.valid[:, t] += cross_val_predict(clf, X, y, cv=cv, n_jobs=-1, method='predict')\n",
    "                # но сам алгоритм надо настроить\n",
    "                clf.fit(X, y)\n",
    "            \n",
    "            # обучение метамодели\n",
    "            self.ens_model.fit(self.valid, y)              \n",
    "\n",
    "        return self    \n",
    "\n",
    "\n",
    "    def predict(self, X, y=None):\n",
    "        \"\"\"\n",
    "        Работа стэкинга\n",
    "        \"\"\"\n",
    "        # заполение матрицы для мета-классификатора\n",
    "        X_meta = np.zeros((X.shape[0], self.n))\n",
    "        \n",
    "        for t, clf in enumerate(self.models):\n",
    "            X_meta[:, t] = clf.predict(X)\n",
    "        \n",
    "        a = self.ens_model.predict(X_meta)\n",
    "        \n",
    "        return (a)"
   ]
  },
  {
   "cell_type": "markdown",
   "metadata": {},
   "source": [
    "**Базовые алгоритмы и мета алгоритм **\n",
    "\n",
    "В качестве базовых алгоритмов будем использовать теже алгоритмы которые использовались для блендинга классификаторов - RandomForestClassifier, GradientBoostingClassifier и KNeighborsClassifier, в качестве мета-алгоритма - Ridge классификатор"
   ]
  },
  {
   "cell_type": "code",
   "execution_count": 124,
   "metadata": {
    "collapsed": true
   },
   "outputs": [],
   "source": [
    "def score_st(clf, X, y, label):\n",
    "    a = clf.predict(X)   \n",
    "    print (label + ' accuracy_score  = ' + str( accuracy_score(y, a.round()) ))"
   ]
  },
  {
   "cell_type": "markdown",
   "metadata": {},
   "source": [
    "Чтобы не усложнять стэкинг, в каждой модели будем учитывать одинаковое количество отранжированных по важности признаков"
   ]
  },
  {
   "cell_type": "code",
   "execution_count": 125,
   "metadata": {
    "collapsed": false
   },
   "outputs": [
    {
     "data": {
      "text/plain": [
       "KNeighborsClassifier(algorithm='auto', leaf_size=30, metric='minkowski',\n",
       "           metric_params=None, n_jobs=1, n_neighbors=30, p=2,\n",
       "           weights='uniform')"
      ]
     },
     "execution_count": 125,
     "metadata": {},
     "output_type": "execute_result"
    }
   ],
   "source": [
    "# заново перепишем модели\n",
    "rf = RandomForestClassifier(max_depth=14, n_estimators=100, max_features='auto', random_state=7)\n",
    "gbm_params = {'n_estimators': 100, 'learning_rate': 0.1, 'min_samples_leaf': 30}\n",
    "gb = GradientBoostingClassifier(max_depth=5, **gbm_params)    \n",
    "knn = KNeighborsClassifier(n_neighbors=30)\n",
    "\n",
    "n_features=50 # одинаковое количество признаков\n",
    "X_train_st = X_train[features_full.index[:n_features]]\n",
    "rf.fit(X_train_st, y_train)\n",
    "gb.fit(X_train_st, y_train)\n",
    "knn.fit(X_train_st, y_train)"
   ]
  },
  {
   "cell_type": "code",
   "execution_count": 126,
   "metadata": {
    "collapsed": false
   },
   "outputs": [
    {
     "name": "stdout",
     "output_type": "stream",
     "text": [
      "1-stacking accuracy_score  = 0.70034\n",
      "2-stacking accuracy_score  = 0.70262\n",
      "Wall time: 16min 8s\n"
     ]
    }
   ],
   "source": [
    "%%time\n",
    "from sklearn.linear_model import Ridge\n",
    "from sklearn.svm import SVC\n",
    "\n",
    "models = [rf,gb,knn] \n",
    "ens_model = Ridge()  #svm.SVC(gamma=.2) #LinearSVC() #Ridge()\n",
    "X_test_st =  X_test[features_full.index[:n_features]]\n",
    "\n",
    "\n",
    "s1 = DjStacking(models, ens_model)\n",
    "s1.fit(X_train_st, y_train)\n",
    "score_st(s1, X_test_st, y_test, '1-stacking')\n",
    "\n",
    "s2 = DjStacking(models, ens_model)\n",
    "s2.fit(X_train_st, y_train, p=-1)\n",
    "score_st(s2, X_test_st, y_test, '2-stacking')"
   ]
  },
  {
   "cell_type": "code",
   "execution_count": 134,
   "metadata": {
    "collapsed": false
   },
   "outputs": [
    {
     "name": "stdout",
     "output_type": "stream",
     "text": [
      "1-stacking accuracy_score  = 0.74666\n",
      "2-stacking accuracy_score  = 0.74702\n",
      "Wall time: 18min 19s\n"
     ]
    }
   ],
   "source": [
    "%%time\n",
    "from sklearn.linear_model import Ridge\n",
    "from sklearn.svm import SVC\n",
    "\n",
    "models = [rf,gb,knn] \n",
    "ens_model = SVC()  #svm.SVC(gamma=.2) #LinearSVC() #Ridge()\n",
    "X_test_st =  X_test[features_full.index[:n_features]]\n",
    "\n",
    "\n",
    "s1 = DjStacking(models, ens_model)\n",
    "s1.fit(X_train_st, y_train)\n",
    "score_st(s1, X_test_st, y_test, '1-stacking')\n",
    "\n",
    "s2 = DjStacking(models, ens_model)\n",
    "s2.fit(X_train_st, y_train, p=-1)\n",
    "score_st(s2, X_test_st, y_test, '2-stacking')"
   ]
  },
  {
   "cell_type": "markdown",
   "metadata": {},
   "source": [
    "При использовании стэкинга тренировочная выборка разделяется на две части - для обучения базовых алгоритмов, для обучения мета-алгоритма которому на вход подаются результаты базовых алгоритмов. В результате базовые алгоритмы обучаются на меньшей части выборки, чем если бы не использовался стэкинг. В текущей задаче на кривой обучения видно, что данных для обучения недостаточно и уменьшение данных для обучения базовых классификаторов может не способствовать росту метрики качества. В нашем случае в результате стекинга оценка accuracy не превысила оценку лучшей модели"
   ]
  },
  {
   "cell_type": "markdown",
   "metadata": {},
   "source": [
    "### Часть 14. Оценка модели с описанием выбранной метрики"
   ]
  },
  {
   "cell_type": "markdown",
   "metadata": {},
   "source": [
    "Построена модель предсказания определенной возрастной группы абонента. Модель предсказывает с 75-% долей правильных ответах на порядка 50% тестовой выборки. Классы не достаточно равномерно представлены во всей выборке. Тем не менее семплирование миноритарных классов не проводилось. \n",
    "\n",
    "Построены кривые обучения и валидации. На полученой кривой обучения видно, что оценка обучения находится на максимальном уровне. В текущем датасете не хватает данных для обучения с получения более высоких значений accuracy_score. Жадным перебором найдена оптимальная  max_depth для GradientBoostingClassifier. По кривой валидации видно, что дальше с ростом max_depth модель начинает слегка переобучаться. \n",
    "\n",
    "Для повышения целевой метрики качества использовались подходы смешивания классификаторов (блендинг) и построения классификатора над другими классификаторами (стэкинг). В силу доминирования одной модели данные подходы не увеличили оценку относительно лучшей модели - GradientBoostingClassifier"
   ]
  },
  {
   "cell_type": "markdown",
   "metadata": {},
   "source": [
    "### Часть 15. Выводы"
   ]
  },
  {
   "cell_type": "markdown",
   "metadata": {},
   "source": [
    "Построенная модель основана на классификаторе GradientBoostingClassifier использует 140 отранжированных в порядке значимости признаков показывает точность - 75-%  правильных ответов.\n",
    "\n",
    "Более интерпритируемая модель KNeighborsClassifier при использовании только 2 наиболее важных признаков показывает точность - 72.4-%  правильных ответов.\n",
    "\n",
    "Поскольку данные анонимизированны нет возможности комментировать эти признаки.\n",
    "\n",
    "Модель прогнозирования определенной возрастной группы абонента очень важна для мобильных операторов, которые постоянно работают над улучшением тарифных планов и предлагают своим клиентам новые услуги. Каждое предложение должно быть адресовано определенной возрастной группе."
   ]
  },
  {
   "cell_type": "code",
   "execution_count": null,
   "metadata": {
    "collapsed": true
   },
   "outputs": [],
   "source": []
  }
 ],
 "metadata": {
  "kernelspec": {
   "display_name": "Python 2",
   "language": "python",
   "name": "python2"
  },
  "language_info": {
   "codemirror_mode": {
    "name": "ipython",
    "version": 2
   },
   "file_extension": ".py",
   "mimetype": "text/x-python",
   "name": "python",
   "nbconvert_exporter": "python",
   "pygments_lexer": "ipython2",
   "version": "2.7.12"
  }
 },
 "nbformat": 4,
 "nbformat_minor": 0
}
